{
 "cells": [
  {
   "cell_type": "code",
   "execution_count": null,
   "id": "4a05b4aa",
   "metadata": {},
   "outputs": [],
   "source": [
    "import pandas as pd"
   ]
  },
  {
   "cell_type": "code",
   "execution_count": null,
   "id": "d9572551",
   "metadata": {},
   "outputs": [],
   "source": [
    "class DataProcess:\n",
    "    def __init__(self, file):\n",
    "        self.file = file\n",
    "        \n",
    "        self.dataset = pd.read_csv(file)\n",
    "        self.dataset['class'] = self.dataset['class'].map({'T': 1, 'F': 0})\n",
    "        \n",
    "        \n",
    "        #!!!! Make this dynamic for the classifier type\n",
    "        self.param_grid = param_grid = {\n",
    "                            'min_samples_split': [25],\n",
    "                            'max_depth': [17, 25],\n",
    "                            'max_leaf_nodes': [75, 95, 100]\n",
    "                            }\n",
    "        \n",
    "    def get_xy(self):\n",
    "        X = self.dataset.iloc[:, :-1]\n",
    "        y = self.dataset['class']\n",
    "        return X, y\n",
    "    \n",
    "    def get_ds(self):\n",
    "        return self.dataset\n",
    "    \n",
    "    def get_paramgrid(self):\n",
    "        return self.param_grid"
   ]
  }
 ],
 "metadata": {
  "kernelspec": {
   "display_name": "Python 3 (ipykernel)",
   "language": "python",
   "name": "python3"
  },
  "language_info": {
   "codemirror_mode": {
    "name": "ipython",
    "version": 3
   },
   "file_extension": ".py",
   "mimetype": "text/x-python",
   "name": "python",
   "nbconvert_exporter": "python",
   "pygments_lexer": "ipython3",
   "version": "3.9.7"
  }
 },
 "nbformat": 4,
 "nbformat_minor": 5
}
