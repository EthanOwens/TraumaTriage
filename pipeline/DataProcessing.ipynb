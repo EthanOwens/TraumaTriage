{
 "cells": [
  {
   "cell_type": "code",
   "execution_count": null,
   "id": "4a05b4aa",
   "metadata": {},
   "outputs": [],
   "source": [
    "%run DBConnector.ipynb\n",
    "import pandas as pd"
   ]
  },
  {
   "cell_type": "code",
   "execution_count": null,
   "id": "d9572551",
   "metadata": {},
   "outputs": [],
   "source": [
    "class DataProcess:\n",
    "    def __init__(self, file):\n",
    "        self.file = file\n",
    "        \n",
    "        #!!!! Make this dynamic for the classifier type\n",
    "        self.param_grid = param_grid = {\n",
    "                            'min_samples_split': [25],\n",
    "                            'max_depth': [17, 25],\n",
    "                            'max_leaf_nodes': [75, 95, 100]\n",
    "                            }\n",
    "        \n",
    "    def get_xy(self, y_col, y_mapped_vals = []):\n",
    "        file_format = self.file.split(\".\")[1]\n",
    "        if file_format == \"csv\":\n",
    "            self.dataset = pd.read_csv(self.file, on_bad_lines = 'skip', encoding = 'latin-1')\n",
    "        elif file_format == \"pickle\":\n",
    "            self.dataset = pd.read_pickle(self.file)\n",
    "        \n",
    "        self.dataset[y_col] = self.dataset[y_col]\n",
    "        y = self.dataset[y_col]\n",
    "        if len(y_mapped_vals) > 0: \n",
    "            y = [0 if val <= 8 else 1 if val <= 15 else 2 if val <= 25 else 3 for val in y]\n",
    "        X = self.dataset.drop(y_col, axis = 1)\n",
    "        return X, y\n",
    "    \n",
    "    def get_sql_xy(self, table, y_col, y_mapped_vals = []):\n",
    "        con = SQLConnector(self.file)\n",
    "        rows = con.get_rows(table)\n",
    "        cols = con.get_columns(table)\n",
    "        self.dataset = pd.DataFrame(rows, columns = cols)\n",
    "        \n",
    "        y = self.dataset[y_col]\n",
    "        #Will need to change this later, since it only works for ISS\n",
    "        if len(y_mapped_vals) > 0: \n",
    "            y = [0 if val < 8 else 1 if val < 16 else 2 if val < 26 else 3 for val in y]\n",
    "        X = self.dataset.drop(y_col, axis = 1)\n",
    "        \n",
    "        return X, y\n",
    "    \n",
    "    def get_ds(self):\n",
    "        return self.dataset\n",
    "    \n",
    "    def get_paramgrid(self):\n",
    "        return self.param_grid\n",
    "    \n",
    "    def get_columns(self):\n",
    "        return self.dataset.columns\n",
    "    \n",
    "\n",
    "        \n",
    "    "
   ]
  }
 ],
 "metadata": {
  "kernelspec": {
   "display_name": "Python 3 (ipykernel)",
   "language": "python",
   "name": "python3"
  },
  "language_info": {
   "codemirror_mode": {
    "name": "ipython",
    "version": 3
   },
   "file_extension": ".py",
   "mimetype": "text/x-python",
   "name": "python",
   "nbconvert_exporter": "python",
   "pygments_lexer": "ipython3",
   "version": "3.9.7"
  }
 },
 "nbformat": 4,
 "nbformat_minor": 5
}
