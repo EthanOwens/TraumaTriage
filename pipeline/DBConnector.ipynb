{
 "cells": [
  {
   "cell_type": "code",
   "execution_count": null,
   "id": "17e35762",
   "metadata": {},
   "outputs": [],
   "source": [
    "import sqlite3\n",
    "import csv\n",
    "import pickle\n",
    "import pandas as pd"
   ]
  },
  {
   "cell_type": "code",
   "execution_count": null,
   "id": "fd1162da",
   "metadata": {},
   "outputs": [],
   "source": [
    "class SQLConnector:\n",
    "    def __init__(self, db_path):\n",
    "        self.con = sqlite3.connect(db_path)\n",
    "        self.cur = self.con.cursor()\n",
    "        \n",
    "        \n",
    "    def get_rows(self, table):\n",
    "        print(f'Getting {table} Table')\n",
    "        self.cur.execute(f'SELECT * FROM {table}')\n",
    "        rows = self.cur.fetchall()\n",
    "        return rows\n",
    "    \n",
    "    def get_columns(self, table):\n",
    "        self.cur.execute(f'pragma table_info({table})')\n",
    "        rows = self.cur.fetchall()\n",
    "        return [row[1] for row in rows]\n",
    "    \n",
    "    #will need to update this to work with joining tables\n",
    "    def to_csv(self, table):\n",
    "        file_path = f'{table}.csv'\n",
    "        with open(file_path, \"w\", newline = \"\") as f:\n",
    "            header = self.get_columns(table)\n",
    "            writer = csv.writer(f)\n",
    "            \n",
    "            writer.writerow(header)\n",
    "            writer.writerows(self.get_rows(table))\n",
    "        print(f'New CSV created: {file_path}')\n",
    "        \n",
    "    \n",
    "    def to_pickle(self, table):\n",
    "        file_path = f'{table}.pickle'\n",
    "#         with open(file_path, 'wb') as f:\n",
    "#             pickle.dump(table, f)\n",
    "        rows = self.get_rows(table)\n",
    "        cols = self.get_columns(table)\n",
    "        df_table = pd.DataFrame(rows, columns = cols)\n",
    "        df_table.to_pickle(file_path)\n",
    "        print(f'New pickel created: {file_path}')\n",
    "        "
   ]
  }
 ],
 "metadata": {
  "kernelspec": {
   "display_name": "Python 3 (ipykernel)",
   "language": "python",
   "name": "python3"
  },
  "language_info": {
   "codemirror_mode": {
    "name": "ipython",
    "version": 3
   },
   "file_extension": ".py",
   "mimetype": "text/x-python",
   "name": "python",
   "nbconvert_exporter": "python",
   "pygments_lexer": "ipython3",
   "version": "3.9.7"
  }
 },
 "nbformat": 4,
 "nbformat_minor": 5
}
