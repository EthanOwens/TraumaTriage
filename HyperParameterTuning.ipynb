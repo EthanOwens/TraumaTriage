{
 "cells": [
  {
   "cell_type": "code",
   "execution_count": 17,
   "id": "924cca3c",
   "metadata": {},
   "outputs": [],
   "source": [
    "#Import statements\n",
    "import pandas as pd\n",
    "import numpy as np\n",
    "import matplotlib.pyplot as plt\n",
    "from sklearn.model_selection import train_test_split\n",
    "from sklearn import tree\n",
    "from sklearn.metrics import confusion_matrix\n",
    "from itertools import product"
   ]
  },
  {
   "cell_type": "code",
   "execution_count": 21,
   "id": "da714a7b",
   "metadata": {},
   "outputs": [],
   "source": [
    "def thresholdTuner(clf, sens_target, X, y, display = False):\n",
    "    sensArr = []\n",
    "    specArr = []\n",
    "    thresholds = []\n",
    "    conf_matrices = []\n",
    "    for i in range(1,11):\n",
    "        if display:\n",
    "            print(f'Run: {i} / 10', end='\\r')\n",
    "        X_train, X_test, y_train, y_test = train_test_split(X, y, test_size=0.2, random_state=i, stratify = y)\n",
    "        clf.fit(X_train, y_train)\n",
    "        threshold = 0.00\n",
    "        sensitivity = 0\n",
    "        specificity = 0\n",
    "        while((sensitivity < (sens_target - 0.003) or sensitivity > (sens_target + 0.003)) and threshold < 0.5):\n",
    "            threshold = threshold + 0.01\n",
    "            clf_pred = (clf.predict_proba(X_test) >= threshold)\n",
    "            clf_pred = [item[1] for item in clf_pred]\n",
    "            for i in range(len(clf_pred)):\n",
    "                if clf_pred[i] == False:\n",
    "                    clf_pred[i] = 'F'\n",
    "                else:\n",
    "                    clf_pred[i] = 'T'   \n",
    "            tp, fp, fn, tn = confusion_matrix(y_test, clf_pred).ravel()\n",
    "            conf_matrix = [tp, fp, fn, tn]\n",
    "            if (tp + fn) != 0:\n",
    "                sensitivity = tp/(tp+fn)\n",
    "            if (tn + fp) != 0:\n",
    "                specificity = tn/(tn+fp)\n",
    "        if sensitivity > (sens_target - 0.01):\n",
    "            if sensitivity < (sens_target + 0.01):\n",
    "                sensArr.append(sensitivity)\n",
    "                specArr.append(specificity)\n",
    "                thresholds.append(threshold)\n",
    "                conf_matrices.append(conf_matrix)\n",
    "    sensArr = np.array(sensArr)\n",
    "    specArr = np.array(specArr)\n",
    "    thresholds = np.array(thresholds)\n",
    "    return sensArr, specArr, thresholds, conf_matrices"
   ]
  },
  {
   "cell_type": "code",
   "execution_count": 26,
   "id": "66cfb7e2",
   "metadata": {},
   "outputs": [],
   "source": [
    "def gridSearchCustom(param_grid, X, y, display = False):\n",
    "    best_specificity = 0\n",
    "    param_grid_list = [dict(zip(param_grid, v)) for v in product(*param_grid.values())]\n",
    "    for params in param_grid_list:\n",
    "        if display:\n",
    "            print(params)\n",
    "        clf = tree.DecisionTreeClassifier(random_state = 42, **params)\n",
    "        sensArr, specArr, thresholds, conf_matrices = thresholdTuner(clf, 0.95, display)\n",
    "        if len(specArr) == 0:\n",
    "            specAvg = 0\n",
    "        else:\n",
    "            specAvg = specArr.sum(axis=0) / len(specArr)\n",
    "        if specAvg > best_specificity:\n",
    "            best_specificity = specAvg\n",
    "            best_clf = clf\n",
    "            best_params = params\n",
    "            best_sensArr = sensArr\n",
    "            best_specArr = specArr\n",
    "            best_thresholds = thresholds\n",
    "            best_conf_matrices = conf_matrices\n",
    "        if display:\n",
    "            print(f'Specificity: {round(specAvg, 4)}\\n')\n",
    "    return best_clf, best_params, best_sensArr, best_specArr, best_thresholds, best_conf_matrices"
   ]
  }
 ],
 "metadata": {
  "kernelspec": {
   "display_name": "Python 3 (ipykernel)",
   "language": "python",
   "name": "python3"
  },
  "language_info": {
   "codemirror_mode": {
    "name": "ipython",
    "version": 3
   },
   "file_extension": ".py",
   "mimetype": "text/x-python",
   "name": "python",
   "nbconvert_exporter": "python",
   "pygments_lexer": "ipython3",
   "version": "3.9.7"
  }
 },
 "nbformat": 4,
 "nbformat_minor": 5
}
