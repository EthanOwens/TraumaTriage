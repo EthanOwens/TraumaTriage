{
 "cells": [
  {
   "cell_type": "code",
   "execution_count": 2,
   "id": "e83ebd35-205d-4686-8037-6e0dd9e0a1d3",
   "metadata": {},
   "outputs": [],
   "source": [
    "#Import Statements\n",
    "import numpy as np\n",
    "import pandas as pd\n",
    "import matplotlib.pyplot as plt"
   ]
  },
  {
   "cell_type": "code",
   "execution_count": 3,
   "id": "ce6fcd4c-6fd9-4633-b247-5a4dcefe14d9",
   "metadata": {},
   "outputs": [
    {
     "data": {
      "text/html": [
       "<div>\n",
       "<style scoped>\n",
       "    .dataframe tbody tr th:only-of-type {\n",
       "        vertical-align: middle;\n",
       "    }\n",
       "\n",
       "    .dataframe tbody tr th {\n",
       "        vertical-align: top;\n",
       "    }\n",
       "\n",
       "    .dataframe thead th {\n",
       "        text-align: right;\n",
       "    }\n",
       "</style>\n",
       "<table border=\"1\" class=\"dataframe\">\n",
       "  <thead>\n",
       "    <tr style=\"text-align: right;\">\n",
       "      <th></th>\n",
       "      <th>TRAUMATYPE</th>\n",
       "      <th>SYSBP</th>\n",
       "      <th>RR</th>\n",
       "      <th>GCS</th>\n",
       "      <th>EDMOTOR</th>\n",
       "      <th>SI</th>\n",
       "      <th>SIRANK</th>\n",
       "      <th>AGE</th>\n",
       "      <th>SEX</th>\n",
       "      <th>RTS</th>\n",
       "      <th>...</th>\n",
       "      <th>AnatomicalAMPT</th>\n",
       "      <th>PhysiologicalAMPT</th>\n",
       "      <th>LungAMPT</th>\n",
       "      <th>AMPT</th>\n",
       "      <th>Mechanism</th>\n",
       "      <th>RTSCode</th>\n",
       "      <th>AgeGroups</th>\n",
       "      <th>SBPCode</th>\n",
       "      <th>MotorCode</th>\n",
       "      <th>AMPT2</th>\n",
       "    </tr>\n",
       "  </thead>\n",
       "  <tbody>\n",
       "    <tr>\n",
       "      <th>0</th>\n",
       "      <td>0</td>\n",
       "      <td>100</td>\n",
       "      <td>21</td>\n",
       "      <td>15</td>\n",
       "      <td>6</td>\n",
       "      <td>0.720000</td>\n",
       "      <td>2</td>\n",
       "      <td>80.0</td>\n",
       "      <td>0</td>\n",
       "      <td>7.8408</td>\n",
       "      <td>...</td>\n",
       "      <td>0</td>\n",
       "      <td>0</td>\n",
       "      <td>0</td>\n",
       "      <td>0</td>\n",
       "      <td>0</td>\n",
       "      <td>0</td>\n",
       "      <td>5</td>\n",
       "      <td>0</td>\n",
       "      <td>0</td>\n",
       "      <td>0</td>\n",
       "    </tr>\n",
       "    <tr>\n",
       "      <th>1</th>\n",
       "      <td>0</td>\n",
       "      <td>103</td>\n",
       "      <td>22</td>\n",
       "      <td>14</td>\n",
       "      <td>6</td>\n",
       "      <td>0.650485</td>\n",
       "      <td>1</td>\n",
       "      <td>80.0</td>\n",
       "      <td>1</td>\n",
       "      <td>7.8408</td>\n",
       "      <td>...</td>\n",
       "      <td>0</td>\n",
       "      <td>0</td>\n",
       "      <td>0</td>\n",
       "      <td>0</td>\n",
       "      <td>1</td>\n",
       "      <td>0</td>\n",
       "      <td>5</td>\n",
       "      <td>0</td>\n",
       "      <td>0</td>\n",
       "      <td>0</td>\n",
       "    </tr>\n",
       "    <tr>\n",
       "      <th>2</th>\n",
       "      <td>0</td>\n",
       "      <td>96</td>\n",
       "      <td>12</td>\n",
       "      <td>15</td>\n",
       "      <td>6</td>\n",
       "      <td>0.791667</td>\n",
       "      <td>2</td>\n",
       "      <td>67.0</td>\n",
       "      <td>0</td>\n",
       "      <td>7.8408</td>\n",
       "      <td>...</td>\n",
       "      <td>0</td>\n",
       "      <td>0</td>\n",
       "      <td>0</td>\n",
       "      <td>0</td>\n",
       "      <td>1</td>\n",
       "      <td>0</td>\n",
       "      <td>5</td>\n",
       "      <td>0</td>\n",
       "      <td>0</td>\n",
       "      <td>0</td>\n",
       "    </tr>\n",
       "    <tr>\n",
       "      <th>3</th>\n",
       "      <td>1</td>\n",
       "      <td>141</td>\n",
       "      <td>20</td>\n",
       "      <td>15</td>\n",
       "      <td>6</td>\n",
       "      <td>0.553191</td>\n",
       "      <td>1</td>\n",
       "      <td>63.0</td>\n",
       "      <td>1</td>\n",
       "      <td>7.8408</td>\n",
       "      <td>...</td>\n",
       "      <td>0</td>\n",
       "      <td>0</td>\n",
       "      <td>0</td>\n",
       "      <td>0</td>\n",
       "      <td>0</td>\n",
       "      <td>0</td>\n",
       "      <td>5</td>\n",
       "      <td>0</td>\n",
       "      <td>0</td>\n",
       "      <td>0</td>\n",
       "    </tr>\n",
       "    <tr>\n",
       "      <th>4</th>\n",
       "      <td>0</td>\n",
       "      <td>105</td>\n",
       "      <td>24</td>\n",
       "      <td>15</td>\n",
       "      <td>6</td>\n",
       "      <td>0.695238</td>\n",
       "      <td>1</td>\n",
       "      <td>66.0</td>\n",
       "      <td>0</td>\n",
       "      <td>7.8408</td>\n",
       "      <td>...</td>\n",
       "      <td>1</td>\n",
       "      <td>0</td>\n",
       "      <td>1</td>\n",
       "      <td>2</td>\n",
       "      <td>0</td>\n",
       "      <td>0</td>\n",
       "      <td>5</td>\n",
       "      <td>0</td>\n",
       "      <td>0</td>\n",
       "      <td>1</td>\n",
       "    </tr>\n",
       "  </tbody>\n",
       "</table>\n",
       "<p>5 rows × 32 columns</p>\n",
       "</div>"
      ],
      "text/plain": [
       "   TRAUMATYPE  SYSBP  RR  GCS  EDMOTOR        SI  SIRANK   AGE  SEX     RTS  \\\n",
       "0           0    100  21   15        6  0.720000       2  80.0    0  7.8408   \n",
       "1           0    103  22   14        6  0.650485       1  80.0    1  7.8408   \n",
       "2           0     96  12   15        6  0.791667       2  67.0    0  7.8408   \n",
       "3           1    141  20   15        6  0.553191       1  63.0    1  7.8408   \n",
       "4           0    105  24   15        6  0.695238       1  66.0    0  7.8408   \n",
       "\n",
       "   ...  AnatomicalAMPT  PhysiologicalAMPT  LungAMPT  AMPT  Mechanism  RTSCode  \\\n",
       "0  ...               0                  0         0     0          0        0   \n",
       "1  ...               0                  0         0     0          1        0   \n",
       "2  ...               0                  0         0     0          1        0   \n",
       "3  ...               0                  0         0     0          0        0   \n",
       "4  ...               1                  0         1     2          0        0   \n",
       "\n",
       "   AgeGroups  SBPCode  MotorCode  AMPT2  \n",
       "0          5        0          0      0  \n",
       "1          5        0          0      0  \n",
       "2          5        0          0      0  \n",
       "3          5        0          0      0  \n",
       "4          5        0          0      1  \n",
       "\n",
       "[5 rows x 32 columns]"
      ]
     },
     "execution_count": 3,
     "metadata": {},
     "output_type": "execute_result"
    }
   ],
   "source": [
    "data = pd.read_csv('fullEDfullmodel.csv')\n",
    "data.head()\n",
    "X = data.drop(['class'], axis = 1)\n",
    "X.head()"
   ]
  },
  {
   "cell_type": "code",
   "execution_count": 4,
   "id": "b78bb214-df55-4e48-8666-06abb201adda",
   "metadata": {},
   "outputs": [
    {
     "name": "stdout",
     "output_type": "stream",
     "text": [
      "TRAUMATYPE\n",
      "Unique Values:  [0 1]\n",
      "Range:  0  -  1\n"
     ]
    },
    {
     "data": {
      "image/png": "[encoded data removed]",
      "text/plain": [
       "<Figure size 432x288 with 1 Axes>"
      ]
     },
     "metadata": {
      "needs_background": "light"
     },
     "output_type": "display_data"
    },
    {
     "name": "stdout",
     "output_type": "stream",
     "text": [
      "SYSBP\n",
      "Unique Values:  [100 103  96 141 105 153 101 130 133 140 146 111 121 139 151  98 142 136\n",
      " 158 116 115  92 114 132 119 148 157 126 150 143  90 112 134 144 152 110\n",
      " 104 188 154 147  99 179 169 127 137 109 123 178 160 135 180 138 124 155\n",
      " 120 165 168 163 149 181 167 156 170 198 172 145 234 162 118 125 203 164\n",
      " 161 183  97 129 131 187 199 113  91 117 122 216 102 173 159 211 197 212\n",
      " 128 166 106  95 171 175 107 190 177 210 174 253 189 108 193 196 176 214\n",
      " 195 204 191 202 186 184 192 182  93 218  94 206 208 219 205 233 194 221\n",
      " 215 213 226 235 185 201 200 207 240 225 228 237 220 242 217 209 232 229\n",
      " 231 249 224 241 230 260 264 222 227 223 245 236 238  78  85  81  86  80\n",
      "  83  87  89  88  82  84  76  77  79 252 256  73  75  68  58  74  62  72\n",
      "  50  64  70  66  59  71  51  54  52  69  57  61  63  53  56  60  67 268\n",
      "  29  48  11  25  40  38  33   3  27  41  49   2  45  18  30  47   8  16\n",
      "  26  21  34  44  28  19  15  13  35  32  37  22  20  43 248 258  31  42\n",
      " 267 255 247 265  55  65   0  46 273 243 244 271 297 251 294  12  14  23\n",
      "  24   6  39  17   7   9   5 296  36  10]\n",
      "Range:  0  -  297\n"
     ]
    },
    {
     "data": {
      "image/png": "[encoded data removed]",
      "text/plain": [
       "<Figure size 432x288 with 1 Axes>"
      ]
     },
     "metadata": {
      "needs_background": "light"
     },
     "output_type": "display_data"
    },
    {
     "name": "stdout",
     "output_type": "stream",
     "text": [
      "RR\n",
      "Unique Values:  [21 22 12 20 24 18 26 28 19 16 13 14 15 17 25 29 27 23 11 10 44 32 30 36\n",
      " 38 33 40 46 35 34 48 31 42 37 41 45 70 50 39  8  6  9  7  4  5  3  1  2\n",
      " 43  0 56 49 54 47 60 52 61 57 64 55 65 53 62 58]\n",
      "Range:  0  -  70\n"
     ]
    },
    {
     "data": {
      "image/png": "[encoded data removed]",
      "text/plain": [
       "<Figure size 432x288 with 1 Axes>"
      ]
     },
     "metadata": {
      "needs_background": "light"
     },
     "output_type": "display_data"
    },
    {
     "name": "stdout",
     "output_type": "stream",
     "text": [
      "GCS\n",
      "Unique Values:  [15 14 13 10  9 11 12  8  6  7  5  4  3]\n",
      "Range:  3  -  15\n"
     ]
    },
    {
     "data": {
      "image/png": "[encoded data removed]",
      "text/plain": [
       "<Figure size 432x288 with 1 Axes>"
      ]
     },
     "metadata": {
      "needs_background": "light"
     },
     "output_type": "display_data"
    },
    {
     "name": "stdout",
     "output_type": "stream",
     "text": [
      "EDMOTOR\n",
      "Unique Values:  [6 5 1 4 3 2]\n",
      "Range:  1  -  6\n"
     ]
    },
    {
     "data": {
      "image/png": "[encoded data removed]",
      "text/plain": [
       "<Figure size 432x288 with 1 Axes>"
      ]
     },
     "metadata": {
      "needs_background": "light"
     },
     "output_type": "display_data"
    },
    {
     "name": "stdout",
     "output_type": "stream",
     "text": [
      "SI\n",
      "Unique Values:  [0.72       0.65048544 0.79166667 ... 0.97938144 0.94680851 0.79274611]\n",
      "Range:  0.0  -  1.0\n"
     ]
    },
    {
     "data": {
      "image/png": "[encoded data removed]",
      "text/plain": [
       "<Figure size 432x288 with 1 Axes>"
      ]
     },
     "metadata": {
      "needs_background": "light"
     },
     "output_type": "display_data"
    },
    {
     "name": "stdout",
     "output_type": "stream",
     "text": [
      "SIRANK\n",
      "Unique Values:  [2 1 0]\n",
      "Range:  0  -  2\n"
     ]
    },
    {
     "data": {
      "image/png": "[encoded data removed]",
      "text/plain": [
       "<Figure size 432x288 with 1 Axes>"
      ]
     },
     "metadata": {
      "needs_background": "light"
     },
     "output_type": "display_data"
    },
    {
     "name": "stdout",
     "output_type": "stream",
     "text": [
      "AGE\n",
      "Unique Values:  [8.00e+01 6.70e+01 6.30e+01 6.60e+01 6.10e+01 5.80e+01 7.20e+01 6.80e+01\n",
      " 7.70e+01 7.50e+01 6.90e+01 6.20e+01 6.00e+01 5.90e+01 5.70e+01 8.30e+01\n",
      " 8.20e+01 8.10e+01 7.00e+01 8.80e+01 8.70e+01 8.50e+01 8.40e+01 7.90e+01\n",
      " 7.80e+01 7.30e+01 6.50e+01 5.60e+01 5.50e+01 8.60e+01 7.60e+01 7.40e+01\n",
      " 9.00e+01 8.90e+01 7.10e+01 6.40e+01 9.40e+01 9.30e+01 9.10e+01 9.70e+01\n",
      " 9.20e+01 9.60e+01 1.00e+02 9.90e+01 9.50e+01 1.03e+02 9.80e+01 1.02e+02\n",
      " 1.01e+02 5.40e+01 5.10e+01 4.80e+01 4.30e+01 4.20e+01 4.10e+01 2.10e+01\n",
      " 3.50e+01 1.90e+01 3.90e+01 3.00e+01 2.40e+01 2.30e+01 4.70e+01 4.00e+01\n",
      " 3.60e+01 3.20e+01 2.80e+01 2.60e+01 2.50e+01 4.40e+01 2.00e+01 4.90e+01\n",
      " 4.60e+01 4.50e+01 3.40e+01 3.10e+01 2.90e+01 2.20e+01 3.70e+01 3.30e+01\n",
      " 2.70e+01 1.80e+01 5.30e+01 5.20e+01 5.00e+01 3.80e+01 1.40e+01 7.00e+00\n",
      " 1.70e+01 1.50e+01 1.30e+01 1.60e+01 8.00e+00 1.20e+01 9.00e+00 1.10e+01\n",
      " 1.00e+01 5.00e+00 6.00e+00 4.00e+00 2.90e+00 2.20e+00 3.00e+00 2.80e+00\n",
      " 2.10e+00 2.60e+00 2.30e+00 2.50e+00 2.70e+00 2.40e+00 2.00e+00 9.00e-01\n",
      " 7.00e-01 6.00e-01 3.00e-01 8.00e-01 4.00e-01 1.00e+00 5.00e-01 2.00e-01\n",
      " 1.00e-01 0.00e+00]\n",
      "Range:  0.0  -  103.0\n"
     ]
    },
    {
     "data": {
      "image/png": "[encoded data removed]",
      "text/plain": [
       "<Figure size 432x288 with 1 Axes>"
      ]
     },
     "metadata": {
      "needs_background": "light"
     },
     "output_type": "display_data"
    },
    {
     "name": "stdout",
     "output_type": "stream",
     "text": [
      "SEX\n",
      "Unique Values:  [0 1]\n",
      "Range:  0  -  1\n"
     ]
    },
    {
     "data": {
      "image/png": "[encoded data removed]",
      "text/plain": [
       "<Figure size 432x288 with 1 Axes>"
      ]
     },
     "metadata": {
      "needs_background": "light"
     },
     "output_type": "display_data"
    },
    {
     "name": "stdout",
     "output_type": "stream",
     "text": [
      "RTS\n",
      "Unique Values:  [7.8408 7.55   7.2592 7.1082 6.9684 6.904  6.8174 6.6776 6.6132 6.5266\n",
      " 6.3756 6.2358 6.1714 6.0848 6.0316 5.9672 5.945  5.8806 5.7408 5.6764\n",
      " 5.643  5.4388 5.3522 5.2346 5.2124 5.148  5.0948 5.0614 5.0304 5.0082\n",
      " 4.804  4.7062 4.4154 4.2978 4.2756 4.0936 4.0714 3.8672 3.8028 3.543\n",
      " 3.361  3.3388 3.2212 3.1346 2.9304 2.6284 2.402  2.1978 1.8958 1.4652\n",
      " 1.1632 0.7326 0.     6.3224 5.794  5.3856 4.9438 4.7396 4.502  4.4488\n",
      " 4.2112 3.5652 3.512  2.8104 2.6062 1.8736 1.605  0.9368 3.0702]\n",
      "Range:  0.0  -  7.8408\n"
     ]
    },
    {
     "data": {
      "image/png": "[encoded data removed]",
      "text/plain": [
       "<Figure size 432x288 with 1 Axes>"
      ]
     },
     "metadata": {
      "needs_background": "light"
     },
     "output_type": "display_data"
    },
    {
     "name": "stdout",
     "output_type": "stream",
     "text": [
      "FlailAMPT\n",
      "Unique Values:  [0 1]\n",
      "Range:  0  -  1\n"
     ]
    },
    {
     "data": {
      "image/png": "[encoded data removed]",
      "text/plain": [
       "<Figure size 432x288 with 1 Axes>"
      ]
     },
     "metadata": {
      "needs_background": "light"
     },
     "output_type": "display_data"
    },
    {
     "name": "stdout",
     "output_type": "stream",
     "text": [
      "SCIAMPT\n",
      "Unique Values:  [0 1]\n",
      "Range:  0  -  1\n"
     ]
    },
    {
     "data": {
      "image/png": "[encoded data removed]",
      "text/plain": [
       "<Figure size 432x288 with 1 Axes>"
      ]
     },
     "metadata": {
      "needs_background": "light"
     },
     "output_type": "display_data"
    },
    {
     "name": "stdout",
     "output_type": "stream",
     "text": [
      "RRAMPT\n",
      "Unique Values:  [0 1]\n",
      "Range:  0  -  1\n"
     ]
    },
    {
     "data": {
      "image/png": "[encoded data removed]",
      "text/plain": [
       "<Figure size 432x288 with 1 Axes>"
      ]
     },
     "metadata": {
      "needs_background": "light"
     },
     "output_type": "display_data"
    },
    {
     "name": "stdout",
     "output_type": "stream",
     "text": [
      "GCSAMPT\n",
      "Unique Values:  [0 1]\n",
      "Range:  0  -  1\n"
     ]
    },
    {
     "data": {
      "image/png": "[encoded data removed]",
      "text/plain": [
       "<Figure size 432x288 with 1 Axes>"
      ]
     },
     "metadata": {
      "needs_background": "light"
     },
     "output_type": "display_data"
    },
    {
     "name": "stdout",
     "output_type": "stream",
     "text": [
      "ABDAMPT\n",
      "Unique Values:  [0 1]\n",
      "Range:  0  -  1\n"
     ]
    },
    {
     "data": {
      "image/png": "[encoded data removed]",
      "text/plain": [
       "<Figure size 432x288 with 1 Axes>"
      ]
     },
     "metadata": {
      "needs_background": "light"
     },
     "output_type": "display_data"
    },
    {
     "name": "stdout",
     "output_type": "stream",
     "text": [
      "ARMAMPT\n",
      "Unique Values:  [0 1]\n",
      "Range:  0  -  1\n"
     ]
    },
    {
     "data": {
      "image/png": "[encoded data removed]",
      "text/plain": [
       "<Figure size 432x288 with 1 Axes>"
      ]
     },
     "metadata": {
      "needs_background": "light"
     },
     "output_type": "display_data"
    },
    {
     "name": "stdout",
     "output_type": "stream",
     "text": [
      "CHESTAMPT\n",
      "Unique Values:  [1 0]\n",
      "Range:  0  -  1\n"
     ]
    },
    {
     "data": {
      "image/png": "[encoded data removed]",
      "text/plain": [
       "<Figure size 432x288 with 1 Axes>"
      ]
     },
     "metadata": {
      "needs_background": "light"
     },
     "output_type": "display_data"
    },
    {
     "name": "stdout",
     "output_type": "stream",
     "text": [
      "FACEAMPT\n",
      "Unique Values:  [0 1]\n",
      "Range:  0  -  1\n"
     ]
    },
    {
     "data": {
      "image/png": "[encoded data removed]",
      "text/plain": [
       "<Figure size 432x288 with 1 Axes>"
      ]
     },
     "metadata": {
      "needs_background": "light"
     },
     "output_type": "display_data"
    },
    {
     "name": "stdout",
     "output_type": "stream",
     "text": [
      "HEADAMPT\n",
      "Unique Values:  [0 1]\n",
      "Range:  0  -  1\n"
     ]
    },
    {
     "data": {
      "image/png": "[encoded data removed]",
      "text/plain": [
       "<Figure size 432x288 with 1 Axes>"
      ]
     },
     "metadata": {
      "needs_background": "light"
     },
     "output_type": "display_data"
    },
    {
     "name": "stdout",
     "output_type": "stream",
     "text": [
      "LEGAMPT\n",
      "Unique Values:  [0 1]\n",
      "Range:  0  -  1\n"
     ]
    },
    {
     "data": {
      "image/png": "[encoded data removed]",
      "text/plain": [
       "<Figure size 432x288 with 1 Axes>"
      ]
     },
     "metadata": {
      "needs_background": "light"
     },
     "output_type": "display_data"
    },
    {
     "name": "stdout",
     "output_type": "stream",
     "text": [
      "NECKAMPT\n",
      "Unique Values:  [0 1]\n",
      "Range:  0  -  1\n"
     ]
    },
    {
     "data": {
      "image/png": "[encoded data removed]",
      "text/plain": [
       "<Figure size 432x288 with 1 Axes>"
      ]
     },
     "metadata": {
      "needs_background": "light"
     },
     "output_type": "display_data"
    },
    {
     "name": "stdout",
     "output_type": "stream",
     "text": [
      "MultisystemAMPT\n",
      "Unique Values:  [0 1]\n",
      "Range:  0  -  1\n"
     ]
    },
    {
     "data": {
      "image/png": "[encoded data removed]",
      "text/plain": [
       "<Figure size 432x288 with 1 Axes>"
      ]
     },
     "metadata": {
      "needs_background": "light"
     },
     "output_type": "display_data"
    },
    {
     "name": "stdout",
     "output_type": "stream",
     "text": [
      "AnatomicalAMPT\n",
      "Unique Values:  [0 1]\n",
      "Range:  0  -  1\n"
     ]
    },
    {
     "data": {
      "image/png": "[encoded data removed]",
      "text/plain": [
       "<Figure size 432x288 with 1 Axes>"
      ]
     },
     "metadata": {
      "needs_background": "light"
     },
     "output_type": "display_data"
    },
    {
     "name": "stdout",
     "output_type": "stream",
     "text": [
      "PhysiologicalAMPT\n",
      "Unique Values:  [0 1]\n",
      "Range:  0  -  1\n"
     ]
    },
    {
     "data": {
      "image/png": "[encoded data removed]",
      "text/plain": [
       "<Figure size 432x288 with 1 Axes>"
      ]
     },
     "metadata": {
      "needs_background": "light"
     },
     "output_type": "display_data"
    },
    {
     "name": "stdout",
     "output_type": "stream",
     "text": [
      "LungAMPT\n",
      "Unique Values:  [0 1]\n",
      "Range:  0  -  1\n"
     ]
    },
    {
     "data": {
      "image/png": "[encoded data removed]",
      "text/plain": [
       "<Figure size 432x288 with 1 Axes>"
      ]
     },
     "metadata": {
      "needs_background": "light"
     },
     "output_type": "display_data"
    },
    {
     "name": "stdout",
     "output_type": "stream",
     "text": [
      "AMPT\n",
      "Unique Values:  [0 2 4 1 5 3 6 7]\n",
      "Range:  0  -  7\n"
     ]
    },
    {
     "data": {
      "image/png": "[encoded data removed]",
      "text/plain": [
       "<Figure size 432x288 with 1 Axes>"
      ]
     },
     "metadata": {
      "needs_background": "light"
     },
     "output_type": "display_data"
    },
    {
     "name": "stdout",
     "output_type": "stream",
     "text": [
      "Mechanism\n",
      "Unique Values:  [0 1]\n",
      "Range:  0  -  1\n"
     ]
    },
    {
     "data": {
      "image/png": "[encoded data removed]",
      "text/plain": [
       "<Figure size 432x288 with 1 Axes>"
      ]
     },
     "metadata": {
      "needs_background": "light"
     },
     "output_type": "display_data"
    },
    {
     "name": "stdout",
     "output_type": "stream",
     "text": [
      "RTSCode\n",
      "Unique Values:  [0 1]\n",
      "Range:  0  -  1\n"
     ]
    },
    {
     "data": {
      "image/png": "[encoded data removed]",
      "text/plain": [
       "<Figure size 432x288 with 1 Axes>"
      ]
     },
     "metadata": {
      "needs_background": "light"
     },
     "output_type": "display_data"
    },
    {
     "name": "stdout",
     "output_type": "stream",
     "text": [
      "AgeGroups\n",
      "Unique Values:  [5 4 3 2 1]\n",
      "Range:  1  -  5\n"
     ]
    },
    {
     "data": {
      "image/png": "[encoded data removed]",
      "text/plain": [
       "<Figure size 432x288 with 1 Axes>"
      ]
     },
     "metadata": {
      "needs_background": "light"
     },
     "output_type": "display_data"
    },
    {
     "name": "stdout",
     "output_type": "stream",
     "text": [
      "SBPCode\n",
      "Unique Values:  [0 1]\n",
      "Range:  0  -  1\n"
     ]
    },
    {
     "data": {
      "image/png": "[encoded data removed]",
      "text/plain": [
       "<Figure size 432x288 with 1 Axes>"
      ]
     },
     "metadata": {
      "needs_background": "light"
     },
     "output_type": "display_data"
    },
    {
     "name": "stdout",
     "output_type": "stream",
     "text": [
      "MotorCode\n",
      "Unique Values:  [0 1]\n",
      "Range:  0  -  1\n"
     ]
    },
    {
     "data": {
      "image/png": "[encoded data removed]",
      "text/plain": [
       "<Figure size 432x288 with 1 Axes>"
      ]
     },
     "metadata": {
      "needs_background": "light"
     },
     "output_type": "display_data"
    },
    {
     "name": "stdout",
     "output_type": "stream",
     "text": [
      "AMPT2\n",
      "Unique Values:  [0 1]\n",
      "Range:  0  -  1\n"
     ]
    },
    {
     "data": {
      "image/png": "[encoded data removed]",
      "text/plain": [
       "<Figure size 432x288 with 1 Axes>"
      ]
     },
     "metadata": {
      "needs_background": "light"
     },
     "output_type": "display_data"
    }
   ],
   "source": [
    "columnNames = X.columns\n",
    "for colName in columnNames:\n",
    "    print(colName)\n",
    "    print('Unique Values: ', X[colName].unique())\n",
    "    print('Range: ', X[colName].min(), ' - ', X[colName].max())\n",
    "    plt.hist(X[colName], bins=100, density=True)\n",
    "    plt.show()\n",
    "    "
   ]
  },
  {
   "cell_type": "code",
   "execution_count": 5,
   "id": "1a4d6403-cb75-47da-ac9e-e049367431d7",
   "metadata": {},
   "outputs": [
    {
     "name": "stdout",
     "output_type": "stream",
     "text": [
      "                   TRAUMATYPE   SYSBP      RR     GCS  EDMOTOR      SI  \\\n",
      "TRAUMATYPE             1.0000 -0.0663 -0.0431 -0.0563  -0.0677  0.0473   \n",
      "SYSBP                 -0.0663  1.0000  0.1149  0.1952   0.2124 -0.5869   \n",
      "RR                    -0.0431  0.1149  1.0000  0.7008   0.6556  0.0154   \n",
      "GCS                   -0.0563  0.1952  0.7008  1.0000   0.9566 -0.1616   \n",
      "EDMOTOR               -0.0677  0.2124  0.6556  0.9566   1.0000 -0.1503   \n",
      "SI                     0.0473 -0.5869  0.0154 -0.1616  -0.1503  1.0000   \n",
      "SIRANK                 0.0437 -0.4943  0.0321 -0.0983  -0.0887  0.8750   \n",
      "AGE                   -0.0638  0.1741 -0.0714  0.0120   0.0134 -0.2950   \n",
      "SEX                   -0.1171 -0.0724  0.0431  0.0487   0.0472  0.0905   \n",
      "RTS                   -0.0816  0.3402  0.7057  0.9555   0.9428 -0.2133   \n",
      "FlailAMPT             -0.0278 -0.0304 -0.0098 -0.0434  -0.0445  0.0305   \n",
      "SCIAMPT               -0.0088 -0.0101 -0.0187 -0.0265  -0.0304 -0.0063   \n",
      "RRAMPT                 0.0555 -0.1775 -0.4854 -0.7502  -0.6926  0.2129   \n",
      "GCSAMPT                0.0357 -0.1522 -0.6087 -0.8881  -0.7715  0.1539   \n",
      "ABDAMPT                0.0173 -0.0833  0.0270 -0.0188  -0.0232  0.1145   \n",
      "ARMAMPT               -0.0699 -0.0081  0.0209  0.0109   0.0095  0.0255   \n",
      "CHESTAMPT             -0.0606 -0.0536 -0.0314 -0.1164  -0.1092  0.0794   \n",
      "FACEAMPT              -0.0641  0.0101 -0.1023 -0.1593  -0.1293  0.0172   \n",
      "HEADAMPT              -0.1830 -0.0091 -0.1580 -0.3045  -0.2470  0.0653   \n",
      "LEGAMPT               -0.1384 -0.0247  0.0670  0.0951   0.0792  0.0539   \n",
      "NECKAMPT              -0.0427 -0.0080 -0.0575 -0.0741  -0.0664 -0.0047   \n",
      "MultisystemAMPT       -0.1551 -0.0587 -0.0609 -0.1621  -0.1386  0.1237   \n",
      "AnatomicalAMPT        -0.1052 -0.0638 -0.0487 -0.1528  -0.1341  0.1225   \n",
      "PhysiologicalAMPT      0.0350 -0.1544 -0.4035 -0.7841  -0.6806  0.1985   \n",
      "LungAMPT               0.0047 -0.0546 -0.0332 -0.1162  -0.1152  0.0916   \n",
      "AMPT                  -0.0408 -0.1555 -0.4086 -0.6895  -0.6161  0.2166   \n",
      "Mechanism              0.1196  0.0261 -0.0192  0.0051  -0.0018 -0.0746   \n",
      "RTSCode                0.0470 -0.2365 -0.4100 -0.7715  -0.6859  0.2473   \n",
      "AgeGroups             -0.0060  0.1798 -0.1205 -0.0002   0.0011 -0.3213   \n",
      "SBPCode                0.0765 -0.6008 -0.1921 -0.2952  -0.3095  0.2998   \n",
      "MotorCode              0.0428 -0.1630 -0.6224 -0.9302  -0.8842  0.1492   \n",
      "\n",
      "                   SIRANK     AGE     SEX     RTS  ...  AnatomicalAMPT  \\\n",
      "TRAUMATYPE         0.0437 -0.0638 -0.1171 -0.0816  ...         -0.1052   \n",
      "SYSBP             -0.4943  0.1741 -0.0724  0.3402  ...         -0.0638   \n",
      "RR                 0.0321 -0.0714  0.0431  0.7057  ...         -0.0487   \n",
      "GCS               -0.0983  0.0120  0.0487  0.9555  ...         -0.1528   \n",
      "EDMOTOR           -0.0887  0.0134  0.0472  0.9428  ...         -0.1341   \n",
      "SI                 0.8750 -0.2950  0.0905 -0.2133  ...          0.1225   \n",
      "SIRANK             1.0000 -0.2753  0.0834 -0.1297  ...          0.1015   \n",
      "AGE               -0.2753  1.0000  0.0954  0.0150  ...          0.0585   \n",
      "SEX                0.0834  0.0954  1.0000  0.0460  ...          0.0034   \n",
      "RTS               -0.1297  0.0150  0.0460  1.0000  ...         -0.1396   \n",
      "FlailAMPT          0.0232  0.0645 -0.0101 -0.0477  ...          0.1328   \n",
      "SCIAMPT           -0.0111  0.0113 -0.0073 -0.0255  ...          0.0633   \n",
      "RRAMPT             0.1425 -0.0559 -0.0322 -0.7807  ...          0.1557   \n",
      "GCSAMPT            0.0969 -0.0119 -0.0409 -0.8096  ...          0.1487   \n",
      "ABDAMPT            0.0968  0.0049  0.0155 -0.0276  ...          0.3165   \n",
      "ARMAMPT            0.0150  0.0283  0.0100  0.0090  ...          0.3249   \n",
      "CHESTAMPT          0.0637  0.1349 -0.0026 -0.1197  ...          0.6185   \n",
      "FACEAMPT           0.0139 -0.0408 -0.0427 -0.1271  ...          0.2550   \n",
      "HEADAMPT           0.0466 -0.0337  0.0101 -0.2449  ...          0.3054   \n",
      "LEGAMPT            0.0514  0.0274  0.0664  0.0807  ...          0.1791   \n",
      "NECKAMPT          -0.0065  0.0744  0.0041 -0.0636  ...          0.2265   \n",
      "MultisystemAMPT    0.1023  0.0413  0.0224 -0.1426  ...          0.8804   \n",
      "AnatomicalAMPT     0.1015  0.0585  0.0034 -0.1396  ...          1.0000   \n",
      "PhysiologicalAMPT  0.1319 -0.0417 -0.0313 -0.7366  ...          0.1617   \n",
      "LungAMPT           0.0733  0.0411 -0.0109 -0.1131  ...          0.5634   \n",
      "AMPT               0.1541  0.0026 -0.0200 -0.6581  ...          0.6567   \n",
      "Mechanism         -0.0739  0.1209 -0.0867  0.0060  ...         -0.1094   \n",
      "RTSCode            0.1630 -0.0364 -0.0269 -0.7728  ...          0.1650   \n",
      "AgeGroups         -0.2734  0.8373  0.0516  0.0051  ...          0.0912   \n",
      "SBPCode            0.1823  0.0146  0.0032 -0.4817  ...          0.0661   \n",
      "MotorCode          0.0903 -0.0190 -0.0416 -0.8691  ...          0.1386   \n",
      "\n",
      "                   PhysiologicalAMPT  LungAMPT    AMPT  Mechanism  RTSCode  \\\n",
      "TRAUMATYPE                    0.0350    0.0047 -0.0408     0.1196   0.0470   \n",
      "SYSBP                        -0.1544   -0.0546 -0.1555     0.0261  -0.2365   \n",
      "RR                           -0.4035   -0.0332 -0.4086    -0.0192  -0.4100   \n",
      "GCS                          -0.7841   -0.1162 -0.6895     0.0051  -0.7715   \n",
      "EDMOTOR                      -0.6806   -0.1152 -0.6161    -0.0018  -0.6859   \n",
      "SI                            0.1985    0.0916  0.2166    -0.0746   0.2473   \n",
      "SIRANK                        0.1319    0.0733  0.1541    -0.0739   0.1630   \n",
      "AGE                          -0.0417    0.0411  0.0026     0.1209  -0.0364   \n",
      "SEX                          -0.0313   -0.0109 -0.0200    -0.0867  -0.0269   \n",
      "RTS                          -0.7366   -0.1131 -0.6581     0.0060  -0.7728   \n",
      "FlailAMPT                     0.0455    0.1663  0.1763    -0.0147   0.0468   \n",
      "SCIAMPT                       0.0218    0.0073  0.0636    -0.0028   0.0214   \n",
      "RRAMPT                        0.8447    0.1190  0.7113    -0.0298   0.8571   \n",
      "GCSAMPT                       0.8820    0.1008  0.7112    -0.0078   0.7728   \n",
      "ABDAMPT                       0.0382    0.1699  0.2244    -0.0491   0.0543   \n",
      "ARMAMPT                      -0.0071    0.1100  0.1890     0.0104  -0.0030   \n",
      "CHESTAMPT                     0.1255    0.5264  0.4514    -0.1026   0.1334   \n",
      "FACEAMPT                      0.1414    0.0170  0.2454    -0.0618   0.1289   \n",
      "HEADAMPT                      0.2975    0.0475  0.3554    -0.0645   0.2613   \n",
      "LEGAMPT                      -0.0883   -0.0044  0.0630     0.0347  -0.0750   \n",
      "NECKAMPT                      0.0661    0.0778  0.1922    -0.0608   0.0631   \n",
      "MultisystemAMPT               0.1681    0.2887  0.6222    -0.1182   0.1693   \n",
      "AnatomicalAMPT                0.1617    0.5634  0.6567    -0.1094   0.1650   \n",
      "PhysiologicalAMPT             1.0000    0.1153  0.7523    -0.0172   0.9015   \n",
      "LungAMPT                      0.1153    1.0000  0.4866    -0.0464   0.1190   \n",
      "AMPT                          0.7523    0.4866  1.0000    -0.0793   0.7090   \n",
      "Mechanism                    -0.0172   -0.0464 -0.0793     1.0000  -0.0190   \n",
      "RTSCode                       0.9015    0.1190  0.7090    -0.0190   1.0000   \n",
      "AgeGroups                    -0.0593    0.0619  0.0211     0.0584  -0.0571   \n",
      "SBPCode                       0.2310    0.0603  0.2145    -0.0030   0.4067   \n",
      "MotorCode                     0.7678    0.1017  0.6538     0.0019   0.7602   \n",
      "\n",
      "                   AgeGroups  SBPCode  MotorCode   AMPT2  \n",
      "TRAUMATYPE           -0.0060   0.0765     0.0428  0.0058  \n",
      "SYSBP                 0.1798  -0.6008    -0.1630 -0.1686  \n",
      "RR                   -0.1205  -0.1921    -0.6224 -0.4978  \n",
      "GCS                  -0.0002  -0.2952    -0.9302 -0.7265  \n",
      "EDMOTOR               0.0011  -0.3095    -0.8842 -0.6554  \n",
      "SI                   -0.3213   0.2998     0.1492  0.1933  \n",
      "SIRANK               -0.2734   0.1823     0.0903  0.1331  \n",
      "AGE                   0.8373   0.0146    -0.0190  0.0036  \n",
      "SEX                   0.0516   0.0032    -0.0416 -0.0266  \n",
      "RTS                   0.0051  -0.4817    -0.8691 -0.7115  \n",
      "FlailAMPT             0.0498   0.0386     0.0365  0.1545  \n",
      "SCIAMPT               0.0085   0.0064     0.0234  0.0404  \n",
      "RRAMPT               -0.0730   0.2539     0.6862  0.7302  \n",
      "GCSAMPT              -0.0030   0.2391     0.8701  0.7140  \n",
      "ABDAMPT               0.0355   0.0544     0.0111  0.1519  \n",
      "ARMAMPT               0.0366   0.0100    -0.0108  0.1081  \n",
      "CHESTAMPT             0.1472   0.0753     0.1015  0.3298  \n",
      "FACEAMPT             -0.0134   0.0044     0.1476  0.1709  \n",
      "HEADAMPT             -0.0237   0.0376     0.2936  0.3051  \n",
      "LEGAMPT               0.0448  -0.0013    -0.0910 -0.0046  \n",
      "NECKAMPT              0.0779   0.0207     0.0652  0.1335  \n",
      "MultisystemAMPT       0.0733   0.0599     0.1480  0.4212  \n",
      "AnatomicalAMPT        0.0912   0.0661     0.1386  0.4119  \n",
      "PhysiologicalAMPT    -0.0593   0.2310     0.7678  0.7103  \n",
      "LungAMPT              0.0619   0.0603     0.1017  0.4384  \n",
      "AMPT                  0.0211   0.2145     0.6538  0.8417  \n",
      "Mechanism             0.0584  -0.0030     0.0019 -0.0503  \n",
      "RTSCode              -0.0571   0.4067     0.7602  0.6888  \n",
      "AgeGroups             1.0000  -0.0029    -0.0108  0.0215  \n",
      "SBPCode              -0.0029   1.0000     0.2569  0.2328  \n",
      "MotorCode            -0.0108   0.2569     1.0000  0.6791  \n",
      "\n",
      "[31 rows x 32 columns]\n"
     ]
    }
   ],
   "source": [
    "numCol = len(columnNames)\n",
    "coorelationMatrix = []\n",
    "for i in range(0, numCol - 1):\n",
    "    coorelationArr = []\n",
    "    for j in range(0, numCol):\n",
    "        coorelationArr.append(data[columnNames[i]].corr(data[columnNames[j]]))\n",
    "    coorelationMatrix.append(coorelationArr)\n",
    "    \n",
    "coorelationDF = pd.DataFrame(coorelationMatrix, columnNames[:-1], columnNames).round(4)\n",
    "print(coorelationDF)\n"
   ]
  },
  {
   "cell_type": "code",
   "execution_count": 7,
   "id": "82c365b6-048e-44b5-9390-e55c40f33135",
   "metadata": {},
   "outputs": [
    {
     "name": "stdout",
     "output_type": "stream",
     "text": [
      "TRAUMATYPE\n",
      "TRAUMATYPE           1.0000\n",
      "SYSBP               -0.0663\n",
      "RR                  -0.0431\n",
      "GCS                 -0.0563\n",
      "EDMOTOR             -0.0677\n",
      "SI                   0.0473\n",
      "SIRANK               0.0437\n",
      "AGE                 -0.0638\n",
      "SEX                 -0.1171\n",
      "RTS                 -0.0816\n",
      "FlailAMPT           -0.0278\n",
      "SCIAMPT             -0.0088\n",
      "RRAMPT               0.0555\n",
      "GCSAMPT              0.0357\n",
      "ABDAMPT              0.0173\n",
      "ARMAMPT             -0.0699\n",
      "CHESTAMPT           -0.0606\n",
      "FACEAMPT            -0.0641\n",
      "HEADAMPT            -0.1830\n",
      "LEGAMPT             -0.1384\n",
      "NECKAMPT            -0.0427\n",
      "MultisystemAMPT     -0.1551\n",
      "AnatomicalAMPT      -0.1052\n",
      "PhysiologicalAMPT    0.0350\n",
      "LungAMPT             0.0047\n",
      "AMPT                -0.0408\n",
      "Mechanism            0.1196\n",
      "RTSCode              0.0470\n",
      "AgeGroups           -0.0060\n",
      "SBPCode              0.0765\n",
      "MotorCode            0.0428\n",
      "Name: TRAUMATYPE, dtype: float64\n",
      "SYSBP\n",
      "TRAUMATYPE          -0.0663\n",
      "SYSBP                1.0000\n",
      "RR                   0.1149\n",
      "GCS                  0.1952\n",
      "EDMOTOR              0.2124\n",
      "SI                  -0.5869\n",
      "SIRANK              -0.4943\n",
      "AGE                  0.1741\n",
      "SEX                 -0.0724\n",
      "RTS                  0.3402\n",
      "FlailAMPT           -0.0304\n",
      "SCIAMPT             -0.0101\n",
      "RRAMPT              -0.1775\n",
      "GCSAMPT             -0.1522\n",
      "ABDAMPT             -0.0833\n",
      "ARMAMPT             -0.0081\n",
      "CHESTAMPT           -0.0536\n",
      "FACEAMPT             0.0101\n",
      "HEADAMPT            -0.0091\n",
      "LEGAMPT             -0.0247\n",
      "NECKAMPT            -0.0080\n",
      "MultisystemAMPT     -0.0587\n",
      "AnatomicalAMPT      -0.0638\n",
      "PhysiologicalAMPT   -0.1544\n",
      "LungAMPT            -0.0546\n",
      "AMPT                -0.1555\n",
      "Mechanism            0.0261\n",
      "RTSCode             -0.2365\n",
      "AgeGroups            0.1798\n",
      "SBPCode             -0.6008\n",
      "MotorCode           -0.1630\n",
      "Name: SYSBP, dtype: float64\n",
      "RR\n",
      "TRAUMATYPE          -0.0431\n",
      "SYSBP                0.1149\n",
      "RR                   1.0000\n",
      "GCS                  0.7008\n",
      "EDMOTOR              0.6556\n",
      "SI                   0.0154\n",
      "SIRANK               0.0321\n",
      "AGE                 -0.0714\n",
      "SEX                  0.0431\n",
      "RTS                  0.7057\n",
      "FlailAMPT           -0.0098\n",
      "SCIAMPT             -0.0187\n",
      "RRAMPT              -0.4854\n",
      "GCSAMPT             -0.6087\n",
      "ABDAMPT              0.0270\n",
      "ARMAMPT              0.0209\n",
      "CHESTAMPT           -0.0314\n",
      "FACEAMPT            -0.1023\n",
      "HEADAMPT            -0.1580\n",
      "LEGAMPT              0.0670\n",
      "NECKAMPT            -0.0575\n",
      "MultisystemAMPT     -0.0609\n",
      "AnatomicalAMPT      -0.0487\n",
      "PhysiologicalAMPT   -0.4035\n",
      "LungAMPT            -0.0332\n",
      "AMPT                -0.4086\n",
      "Mechanism           -0.0192\n",
      "RTSCode             -0.4100\n",
      "AgeGroups           -0.1205\n",
      "SBPCode             -0.1921\n",
      "MotorCode           -0.6224\n",
      "Name: RR, dtype: float64\n",
      "GCS\n",
      "TRAUMATYPE          -0.0563\n",
      "SYSBP                0.1952\n",
      "RR                   0.7008\n",
      "GCS                  1.0000\n",
      "EDMOTOR              0.9566\n",
      "SI                  -0.1616\n",
      "SIRANK              -0.0983\n",
      "AGE                  0.0120\n",
      "SEX                  0.0487\n",
      "RTS                  0.9555\n",
      "FlailAMPT           -0.0434\n",
      "SCIAMPT             -0.0265\n",
      "RRAMPT              -0.7502\n",
      "GCSAMPT             -0.8881\n",
      "ABDAMPT             -0.0188\n",
      "ARMAMPT              0.0109\n",
      "CHESTAMPT           -0.1164\n",
      "FACEAMPT            -0.1593\n",
      "HEADAMPT            -0.3045\n",
      "LEGAMPT              0.0951\n",
      "NECKAMPT            -0.0741\n",
      "MultisystemAMPT     -0.1621\n",
      "AnatomicalAMPT      -0.1528\n",
      "PhysiologicalAMPT   -0.7841\n",
      "LungAMPT            -0.1162\n",
      "AMPT                -0.6895\n",
      "Mechanism            0.0051\n",
      "RTSCode             -0.7715\n",
      "AgeGroups           -0.0002\n",
      "SBPCode             -0.2952\n",
      "MotorCode           -0.9302\n",
      "Name: GCS, dtype: float64\n",
      "EDMOTOR\n",
      "TRAUMATYPE          -0.0677\n",
      "SYSBP                0.2124\n",
      "RR                   0.6556\n",
      "GCS                  0.9566\n",
      "EDMOTOR              1.0000\n",
      "SI                  -0.1503\n",
      "SIRANK              -0.0887\n",
      "AGE                  0.0134\n",
      "SEX                  0.0472\n",
      "RTS                  0.9428\n",
      "FlailAMPT           -0.0445\n",
      "SCIAMPT             -0.0304\n",
      "RRAMPT              -0.6926\n",
      "GCSAMPT             -0.7715\n",
      "ABDAMPT             -0.0232\n",
      "ARMAMPT              0.0095\n",
      "CHESTAMPT           -0.1092\n",
      "FACEAMPT            -0.1293\n",
      "HEADAMPT            -0.2470\n",
      "LEGAMPT              0.0792\n",
      "NECKAMPT            -0.0664\n",
      "MultisystemAMPT     -0.1386\n",
      "AnatomicalAMPT      -0.1341\n",
      "PhysiologicalAMPT   -0.6806\n",
      "LungAMPT            -0.1152\n",
      "AMPT                -0.6161\n",
      "Mechanism           -0.0018\n",
      "RTSCode             -0.6859\n",
      "AgeGroups            0.0011\n",
      "SBPCode             -0.3095\n",
      "MotorCode           -0.8842\n",
      "Name: EDMOTOR, dtype: float64\n",
      "SI\n",
      "TRAUMATYPE           0.0473\n",
      "SYSBP               -0.5869\n",
      "RR                   0.0154\n",
      "GCS                 -0.1616\n",
      "EDMOTOR             -0.1503\n",
      "SI                   1.0000\n",
      "SIRANK               0.8750\n",
      "AGE                 -0.2950\n",
      "SEX                  0.0905\n",
      "RTS                 -0.2133\n",
      "FlailAMPT            0.0305\n",
      "SCIAMPT             -0.0063\n",
      "RRAMPT               0.2129\n",
      "GCSAMPT              0.1539\n",
      "ABDAMPT              0.1145\n",
      "ARMAMPT              0.0255\n",
      "CHESTAMPT            0.0794\n",
      "FACEAMPT             0.0172\n",
      "HEADAMPT             0.0653\n",
      "LEGAMPT              0.0539\n",
      "NECKAMPT            -0.0047\n",
      "MultisystemAMPT      0.1237\n",
      "AnatomicalAMPT       0.1225\n",
      "PhysiologicalAMPT    0.1985\n",
      "LungAMPT             0.0916\n",
      "AMPT                 0.2166\n",
      "Mechanism           -0.0746\n",
      "RTSCode              0.2473\n",
      "AgeGroups           -0.3213\n",
      "SBPCode              0.2998\n",
      "MotorCode            0.1492\n",
      "Name: SI, dtype: float64\n",
      "SIRANK\n",
      "TRAUMATYPE           0.0437\n",
      "SYSBP               -0.4943\n",
      "RR                   0.0321\n",
      "GCS                 -0.0983\n",
      "EDMOTOR             -0.0887\n",
      "SI                   0.8750\n",
      "SIRANK               1.0000\n",
      "AGE                 -0.2753\n",
      "SEX                  0.0834\n",
      "RTS                 -0.1297\n",
      "FlailAMPT            0.0232\n",
      "SCIAMPT             -0.0111\n",
      "RRAMPT               0.1425\n",
      "GCSAMPT              0.0969\n",
      "ABDAMPT              0.0968\n",
      "ARMAMPT              0.0150\n",
      "CHESTAMPT            0.0637\n",
      "FACEAMPT             0.0139\n",
      "HEADAMPT             0.0466\n",
      "LEGAMPT              0.0514\n",
      "NECKAMPT            -0.0065\n",
      "MultisystemAMPT      0.1023\n",
      "AnatomicalAMPT       0.1015\n",
      "PhysiologicalAMPT    0.1319\n",
      "LungAMPT             0.0733\n",
      "AMPT                 0.1541\n",
      "Mechanism           -0.0739\n",
      "RTSCode              0.1630\n",
      "AgeGroups           -0.2734\n",
      "SBPCode              0.1823\n",
      "MotorCode            0.0903\n",
      "Name: SIRANK, dtype: float64\n",
      "AGE\n",
      "TRAUMATYPE          -0.0638\n",
      "SYSBP                0.1741\n",
      "RR                  -0.0714\n",
      "GCS                  0.0120\n",
      "EDMOTOR              0.0134\n",
      "SI                  -0.2950\n",
      "SIRANK              -0.2753\n",
      "AGE                  1.0000\n",
      "SEX                  0.0954\n",
      "RTS                  0.0150\n",
      "FlailAMPT            0.0645\n",
      "SCIAMPT              0.0113\n",
      "RRAMPT              -0.0559\n",
      "GCSAMPT             -0.0119\n",
      "ABDAMPT              0.0049\n",
      "ARMAMPT              0.0283\n",
      "CHESTAMPT            0.1349\n",
      "FACEAMPT            -0.0408\n",
      "HEADAMPT            -0.0337\n",
      "LEGAMPT              0.0274\n",
      "NECKAMPT             0.0744\n",
      "MultisystemAMPT      0.0413\n",
      "AnatomicalAMPT       0.0585\n",
      "PhysiologicalAMPT   -0.0417\n",
      "LungAMPT             0.0411\n",
      "AMPT                 0.0026\n",
      "Mechanism            0.1209\n",
      "RTSCode             -0.0364\n",
      "AgeGroups            0.8373\n",
      "SBPCode              0.0146\n",
      "MotorCode           -0.0190\n",
      "Name: AGE, dtype: float64\n",
      "SEX\n",
      "TRAUMATYPE          -0.1171\n",
      "SYSBP               -0.0724\n",
      "RR                   0.0431\n",
      "GCS                  0.0487\n",
      "EDMOTOR              0.0472\n",
      "SI                   0.0905\n",
      "SIRANK               0.0834\n",
      "AGE                  0.0954\n",
      "SEX                  1.0000\n",
      "RTS                  0.0460\n",
      "FlailAMPT           -0.0101\n",
      "SCIAMPT             -0.0073\n",
      "RRAMPT              -0.0322\n",
      "GCSAMPT             -0.0409\n",
      "ABDAMPT              0.0155\n",
      "ARMAMPT              0.0100\n",
      "CHESTAMPT           -0.0026\n",
      "FACEAMPT            -0.0427\n",
      "HEADAMPT             0.0101\n",
      "LEGAMPT              0.0664\n",
      "NECKAMPT             0.0041\n",
      "MultisystemAMPT      0.0224\n",
      "AnatomicalAMPT       0.0034\n",
      "PhysiologicalAMPT   -0.0313\n",
      "LungAMPT            -0.0109\n",
      "AMPT                -0.0200\n",
      "Mechanism           -0.0867\n",
      "RTSCode             -0.0269\n",
      "AgeGroups            0.0516\n",
      "SBPCode              0.0032\n",
      "MotorCode           -0.0416\n",
      "Name: SEX, dtype: float64\n",
      "RTS\n",
      "TRAUMATYPE          -0.0816\n",
      "SYSBP                0.3402\n",
      "RR                   0.7057\n",
      "GCS                  0.9555\n",
      "EDMOTOR              0.9428\n",
      "SI                  -0.2133\n",
      "SIRANK              -0.1297\n",
      "AGE                  0.0150\n",
      "SEX                  0.0460\n",
      "RTS                  1.0000\n",
      "FlailAMPT           -0.0477\n",
      "SCIAMPT             -0.0255\n",
      "RRAMPT              -0.7807\n",
      "GCSAMPT             -0.8096\n",
      "ABDAMPT             -0.0276\n",
      "ARMAMPT              0.0090\n",
      "CHESTAMPT           -0.1197\n",
      "FACEAMPT            -0.1271\n",
      "HEADAMPT            -0.2449\n",
      "LEGAMPT              0.0807\n",
      "NECKAMPT            -0.0636\n",
      "MultisystemAMPT     -0.1426\n",
      "AnatomicalAMPT      -0.1396\n",
      "PhysiologicalAMPT   -0.7366\n",
      "LungAMPT            -0.1131\n",
      "AMPT                -0.6581\n",
      "Mechanism            0.0060\n",
      "RTSCode             -0.7728\n",
      "AgeGroups            0.0051\n",
      "SBPCode             -0.4817\n",
      "MotorCode           -0.8691\n",
      "Name: RTS, dtype: float64\n",
      "FlailAMPT\n",
      "TRAUMATYPE          -0.0278\n",
      "SYSBP               -0.0304\n",
      "RR                  -0.0098\n",
      "GCS                 -0.0434\n",
      "EDMOTOR             -0.0445\n",
      "SI                   0.0305\n",
      "SIRANK               0.0232\n",
      "AGE                  0.0645\n",
      "SEX                 -0.0101\n",
      "RTS                 -0.0477\n",
      "FlailAMPT            1.0000\n",
      "SCIAMPT             -0.0034\n",
      "RRAMPT               0.0495\n",
      "GCSAMPT              0.0377\n",
      "ABDAMPT              0.0533\n",
      "ARMAMPT              0.0533\n",
      "CHESTAMPT            0.1240\n",
      "FACEAMPT             0.0067\n",
      "HEADAMPT             0.0106\n",
      "LEGAMPT              0.0094\n",
      "NECKAMPT             0.0222\n",
      "MultisystemAMPT      0.0791\n",
      "AnatomicalAMPT       0.1328\n",
      "PhysiologicalAMPT    0.0455\n",
      "LungAMPT             0.1663\n",
      "AMPT                 0.1763\n",
      "Mechanism           -0.0147\n",
      "RTSCode              0.0468\n",
      "AgeGroups            0.0498\n",
      "SBPCode              0.0386\n",
      "MotorCode            0.0365\n",
      "Name: FlailAMPT, dtype: float64\n",
      "SCIAMPT\n",
      "TRAUMATYPE          -0.0088\n",
      "SYSBP               -0.0101\n",
      "RR                  -0.0187\n",
      "GCS                 -0.0265\n",
      "EDMOTOR             -0.0304\n",
      "SI                  -0.0063\n",
      "SIRANK              -0.0111\n",
      "AGE                  0.0113\n",
      "SEX                 -0.0073\n",
      "RTS                 -0.0255\n",
      "FlailAMPT           -0.0034\n",
      "SCIAMPT              1.0000\n",
      "RRAMPT               0.0217\n",
      "GCSAMPT              0.0220\n",
      "ABDAMPT             -0.0036\n",
      "ARMAMPT             -0.0047\n",
      "CHESTAMPT            0.0014\n",
      "FACEAMPT             0.0075\n",
      "HEADAMPT             0.0097\n",
      "LEGAMPT             -0.0169\n",
      "NECKAMPT             0.1216\n",
      "MultisystemAMPT      0.0179\n",
      "AnatomicalAMPT       0.0633\n",
      "PhysiologicalAMPT    0.0218\n",
      "LungAMPT             0.0073\n",
      "AMPT                 0.0636\n",
      "Mechanism           -0.0028\n",
      "RTSCode              0.0214\n",
      "AgeGroups            0.0085\n",
      "SBPCode              0.0064\n",
      "MotorCode            0.0234\n",
      "Name: SCIAMPT, dtype: float64\n",
      "RRAMPT\n",
      "TRAUMATYPE           0.0555\n",
      "SYSBP               -0.1775\n",
      "RR                  -0.4854\n",
      "GCS                 -0.7502\n",
      "EDMOTOR             -0.6926\n",
      "SI                   0.2129\n",
      "SIRANK               0.1425\n",
      "AGE                 -0.0559\n",
      "SEX                 -0.0322\n",
      "RTS                 -0.7807\n",
      "FlailAMPT            0.0495\n",
      "SCIAMPT              0.0217\n",
      "RRAMPT               1.0000\n",
      "GCSAMPT              0.6784\n",
      "ABDAMPT              0.0524\n",
      "ARMAMPT             -0.0008\n",
      "CHESTAMPT            0.1339\n",
      "FACEAMPT             0.1132\n",
      "HEADAMPT             0.2279\n",
      "LEGAMPT             -0.0653\n",
      "NECKAMPT             0.0575\n",
      "MultisystemAMPT      0.1572\n",
      "AnatomicalAMPT       0.1557\n",
      "PhysiologicalAMPT    0.8447\n",
      "LungAMPT             0.1190\n",
      "AMPT                 0.7113\n",
      "Mechanism           -0.0298\n",
      "RTSCode              0.8571\n",
      "AgeGroups           -0.0730\n",
      "SBPCode              0.2539\n",
      "MotorCode            0.6862\n",
      "Name: RRAMPT, dtype: float64\n",
      "GCSAMPT\n",
      "TRAUMATYPE           0.0357\n",
      "SYSBP               -0.1522\n",
      "RR                  -0.6087\n",
      "GCS                 -0.8881\n",
      "EDMOTOR             -0.7715\n",
      "SI                   0.1539\n",
      "SIRANK               0.0969\n",
      "AGE                 -0.0119\n",
      "SEX                 -0.0409\n",
      "RTS                 -0.8096\n",
      "FlailAMPT            0.0377\n",
      "SCIAMPT              0.0220\n",
      "RRAMPT               0.6784\n",
      "GCSAMPT              1.0000\n",
      "ABDAMPT              0.0113\n",
      "ARMAMPT             -0.0103\n",
      "CHESTAMPT            0.1054\n",
      "FACEAMPT             0.1632\n",
      "HEADAMPT             0.3228\n",
      "LEGAMPT             -0.1007\n",
      "NECKAMPT             0.0743\n",
      "MultisystemAMPT      0.1612\n",
      "AnatomicalAMPT       0.1487\n",
      "PhysiologicalAMPT    0.8820\n",
      "LungAMPT             0.1008\n",
      "AMPT                 0.7112\n",
      "Mechanism           -0.0078\n",
      "RTSCode              0.7728\n",
      "AgeGroups           -0.0030\n",
      "SBPCode              0.2391\n",
      "MotorCode            0.8701\n",
      "Name: GCSAMPT, dtype: float64\n",
      "ABDAMPT\n",
      "TRAUMATYPE           0.0173\n",
      "SYSBP               -0.0833\n",
      "RR                   0.0270\n",
      "GCS                 -0.0188\n",
      "EDMOTOR             -0.0232\n",
      "SI                   0.1145\n",
      "SIRANK               0.0968\n",
      "AGE                  0.0049\n",
      "SEX                  0.0155\n",
      "RTS                 -0.0276\n",
      "FlailAMPT            0.0533\n",
      "SCIAMPT             -0.0036\n",
      "RRAMPT               0.0524\n",
      "GCSAMPT              0.0113\n",
      "ABDAMPT              1.0000\n",
      "ARMAMPT              0.0117\n",
      "CHESTAMPT            0.2299\n",
      "FACEAMPT            -0.0306\n",
      "HEADAMPT            -0.0275\n",
      "LEGAMPT              0.0180\n",
      "NECKAMPT             0.0161\n",
      "MultisystemAMPT      0.3481\n",
      "AnatomicalAMPT       0.3165\n",
      "PhysiologicalAMPT    0.0382\n",
      "LungAMPT             0.1699\n",
      "AMPT                 0.2244\n",
      "Mechanism           -0.0491\n",
      "RTSCode              0.0543\n",
      "AgeGroups            0.0355\n",
      "SBPCode              0.0544\n",
      "MotorCode            0.0111\n",
      "Name: ABDAMPT, dtype: float64\n",
      "ARMAMPT\n",
      "TRAUMATYPE          -0.0699\n",
      "SYSBP               -0.0081\n",
      "RR                   0.0209\n",
      "GCS                  0.0109\n",
      "EDMOTOR              0.0095\n",
      "SI                   0.0255\n",
      "SIRANK               0.0150\n",
      "AGE                  0.0283\n",
      "SEX                  0.0100\n",
      "RTS                  0.0090\n",
      "FlailAMPT            0.0533\n",
      "SCIAMPT             -0.0047\n",
      "RRAMPT              -0.0008\n",
      "GCSAMPT             -0.0103\n",
      "ABDAMPT              0.0117\n",
      "ARMAMPT              1.0000\n",
      "CHESTAMPT            0.1336\n",
      "FACEAMPT             0.0269\n",
      "HEADAMPT             0.0209\n",
      "LEGAMPT              0.0318\n",
      "NECKAMPT             0.0272\n",
      "MultisystemAMPT      0.3693\n",
      "AnatomicalAMPT       0.3249\n",
      "PhysiologicalAMPT   -0.0071\n",
      "LungAMPT             0.1100\n",
      "AMPT                 0.1890\n",
      "Mechanism            0.0104\n",
      "RTSCode             -0.0030\n",
      "AgeGroups            0.0366\n",
      "SBPCode              0.0100\n",
      "MotorCode           -0.0108\n",
      "Name: ARMAMPT, dtype: float64\n",
      "CHESTAMPT\n",
      "TRAUMATYPE          -0.0606\n",
      "SYSBP               -0.0536\n",
      "RR                  -0.0314\n",
      "GCS                 -0.1164\n",
      "EDMOTOR             -0.1092\n",
      "SI                   0.0794\n",
      "SIRANK               0.0637\n",
      "AGE                  0.1349\n",
      "SEX                 -0.0026\n",
      "RTS                 -0.1197\n",
      "FlailAMPT            0.1240\n",
      "SCIAMPT              0.0014\n",
      "RRAMPT               0.1339\n",
      "GCSAMPT              0.1054\n",
      "ABDAMPT              0.2299\n",
      "ARMAMPT              0.1336\n",
      "CHESTAMPT            1.0000\n",
      "FACEAMPT             0.0272\n",
      "HEADAMPT             0.0695\n",
      "LEGAMPT             -0.0215\n",
      "NECKAMPT             0.1237\n",
      "MultisystemAMPT      0.4918\n",
      "AnatomicalAMPT       0.6185\n",
      "PhysiologicalAMPT    0.1255\n",
      "LungAMPT             0.5264\n",
      "AMPT                 0.4514\n",
      "Mechanism           -0.1026\n",
      "RTSCode              0.1334\n",
      "AgeGroups            0.1472\n",
      "SBPCode              0.0753\n",
      "MotorCode            0.1015\n",
      "Name: CHESTAMPT, dtype: float64\n",
      "FACEAMPT\n",
      "TRAUMATYPE          -0.0641\n",
      "SYSBP                0.0101\n",
      "RR                  -0.1023\n",
      "GCS                 -0.1593\n",
      "EDMOTOR             -0.1293\n",
      "SI                   0.0172\n",
      "SIRANK               0.0139\n",
      "AGE                 -0.0408\n",
      "SEX                 -0.0427\n",
      "RTS                 -0.1271\n",
      "FlailAMPT            0.0067\n",
      "SCIAMPT              0.0075\n",
      "RRAMPT               0.1132\n",
      "GCSAMPT              0.1632\n",
      "ABDAMPT             -0.0306\n",
      "ARMAMPT              0.0269\n",
      "CHESTAMPT            0.0272\n",
      "FACEAMPT             1.0000\n",
      "HEADAMPT             0.2370\n",
      "LEGAMPT             -0.0595\n",
      "NECKAMPT             0.0428\n",
      "MultisystemAMPT      0.3145\n",
      "AnatomicalAMPT       0.2550\n",
      "PhysiologicalAMPT    0.1414\n",
      "LungAMPT             0.0170\n",
      "AMPT                 0.2454\n",
      "Mechanism           -0.0618\n",
      "RTSCode              0.1289\n",
      "AgeGroups           -0.0134\n",
      "SBPCode              0.0044\n",
      "MotorCode            0.1476\n",
      "Name: FACEAMPT, dtype: float64\n",
      "HEADAMPT\n",
      "TRAUMATYPE          -0.1830\n",
      "SYSBP               -0.0091\n",
      "RR                  -0.1580\n",
      "GCS                 -0.3045\n",
      "EDMOTOR             -0.2470\n",
      "SI                   0.0653\n",
      "SIRANK               0.0466\n",
      "AGE                 -0.0337\n",
      "SEX                  0.0101\n",
      "RTS                 -0.2449\n",
      "FlailAMPT            0.0106\n",
      "SCIAMPT              0.0097\n",
      "RRAMPT               0.2279\n",
      "GCSAMPT              0.3228\n",
      "ABDAMPT             -0.0275\n",
      "ARMAMPT              0.0209\n",
      "CHESTAMPT            0.0695\n",
      "FACEAMPT             0.2370\n",
      "HEADAMPT             1.0000\n",
      "LEGAMPT             -0.1195\n",
      "NECKAMPT             0.0788\n",
      "MultisystemAMPT      0.3832\n",
      "AnatomicalAMPT       0.3054\n",
      "PhysiologicalAMPT    0.2975\n",
      "LungAMPT             0.0475\n",
      "AMPT                 0.3554\n",
      "Mechanism           -0.0645\n",
      "RTSCode              0.2613\n",
      "AgeGroups           -0.0237\n",
      "SBPCode              0.0376\n",
      "MotorCode            0.2936\n",
      "Name: HEADAMPT, dtype: float64\n",
      "LEGAMPT\n",
      "TRAUMATYPE          -0.1384\n",
      "SYSBP               -0.0247\n",
      "RR                   0.0670\n",
      "GCS                  0.0951\n",
      "EDMOTOR              0.0792\n",
      "SI                   0.0539\n",
      "SIRANK               0.0514\n",
      "AGE                  0.0274\n",
      "SEX                  0.0664\n",
      "RTS                  0.0807\n",
      "FlailAMPT            0.0094\n",
      "SCIAMPT             -0.0169\n",
      "RRAMPT              -0.0653\n",
      "GCSAMPT             -0.1007\n",
      "ABDAMPT              0.0180\n",
      "ARMAMPT              0.0318\n",
      "CHESTAMPT           -0.0215\n",
      "FACEAMPT            -0.0595\n",
      "HEADAMPT            -0.1195\n",
      "LEGAMPT              1.0000\n",
      "NECKAMPT            -0.0677\n",
      "MultisystemAMPT      0.2549\n",
      "AnatomicalAMPT       0.1791\n",
      "PhysiologicalAMPT   -0.0883\n",
      "LungAMPT            -0.0044\n",
      "AMPT                 0.0630\n",
      "Mechanism            0.0347\n",
      "RTSCode             -0.0750\n",
      "AgeGroups            0.0448\n",
      "SBPCode             -0.0013\n",
      "MotorCode           -0.0910\n",
      "Name: LEGAMPT, dtype: float64\n",
      "NECKAMPT\n",
      "TRAUMATYPE          -0.0427\n",
      "SYSBP               -0.0080\n",
      "RR                  -0.0575\n",
      "GCS                 -0.0741\n",
      "EDMOTOR             -0.0664\n",
      "SI                  -0.0047\n",
      "SIRANK              -0.0065\n",
      "AGE                  0.0744\n",
      "SEX                  0.0041\n",
      "RTS                 -0.0636\n",
      "FlailAMPT            0.0222\n",
      "SCIAMPT              0.1216\n",
      "RRAMPT               0.0575\n",
      "GCSAMPT              0.0743\n",
      "ABDAMPT              0.0161\n",
      "ARMAMPT              0.0272\n",
      "CHESTAMPT            0.1237\n",
      "FACEAMPT             0.0428\n",
      "HEADAMPT             0.0788\n",
      "LEGAMPT             -0.0677\n",
      "NECKAMPT             1.0000\n",
      "MultisystemAMPT      0.2598\n",
      "AnatomicalAMPT       0.2265\n",
      "PhysiologicalAMPT    0.0661\n",
      "LungAMPT             0.0778\n",
      "AMPT                 0.1922\n",
      "Mechanism           -0.0608\n",
      "RTSCode              0.0631\n",
      "AgeGroups            0.0779\n",
      "SBPCode              0.0207\n",
      "MotorCode            0.0652\n",
      "Name: NECKAMPT, dtype: float64\n",
      "MultisystemAMPT\n",
      "TRAUMATYPE          -0.1551\n",
      "SYSBP               -0.0587\n",
      "RR                  -0.0609\n",
      "GCS                 -0.1621\n",
      "EDMOTOR             -0.1386\n",
      "SI                   0.1237\n",
      "SIRANK               0.1023\n",
      "AGE                  0.0413\n",
      "SEX                  0.0224\n",
      "RTS                 -0.1426\n",
      "FlailAMPT            0.0791\n",
      "SCIAMPT              0.0179\n",
      "RRAMPT               0.1572\n",
      "GCSAMPT              0.1612\n",
      "ABDAMPT              0.3481\n",
      "ARMAMPT              0.3693\n",
      "CHESTAMPT            0.4918\n",
      "FACEAMPT             0.3145\n",
      "HEADAMPT             0.3832\n",
      "LEGAMPT              0.2549\n",
      "NECKAMPT             0.2598\n",
      "MultisystemAMPT      1.0000\n",
      "AnatomicalAMPT       0.8804\n",
      "PhysiologicalAMPT    0.1681\n",
      "LungAMPT             0.2887\n",
      "AMPT                 0.6222\n",
      "Mechanism           -0.1182\n",
      "RTSCode              0.1693\n",
      "AgeGroups            0.0733\n",
      "SBPCode              0.0599\n",
      "MotorCode            0.1480\n",
      "Name: MultisystemAMPT, dtype: float64\n",
      "AnatomicalAMPT\n",
      "TRAUMATYPE          -0.1052\n",
      "SYSBP               -0.0638\n",
      "RR                  -0.0487\n",
      "GCS                 -0.1528\n",
      "EDMOTOR             -0.1341\n",
      "SI                   0.1225\n",
      "SIRANK               0.1015\n",
      "AGE                  0.0585\n",
      "SEX                  0.0034\n",
      "RTS                 -0.1396\n",
      "FlailAMPT            0.1328\n",
      "SCIAMPT              0.0633\n",
      "RRAMPT               0.1557\n",
      "GCSAMPT              0.1487\n",
      "ABDAMPT              0.3165\n",
      "ARMAMPT              0.3249\n",
      "CHESTAMPT            0.6185\n",
      "FACEAMPT             0.2550\n",
      "HEADAMPT             0.3054\n",
      "LEGAMPT              0.1791\n",
      "NECKAMPT             0.2265\n",
      "MultisystemAMPT      0.8804\n",
      "AnatomicalAMPT       1.0000\n",
      "PhysiologicalAMPT    0.1617\n",
      "LungAMPT             0.5634\n",
      "AMPT                 0.6567\n",
      "Mechanism           -0.1094\n",
      "RTSCode              0.1650\n",
      "AgeGroups            0.0912\n",
      "SBPCode              0.0661\n",
      "MotorCode            0.1386\n",
      "Name: AnatomicalAMPT, dtype: float64\n",
      "PhysiologicalAMPT\n",
      "TRAUMATYPE           0.0350\n",
      "SYSBP               -0.1544\n",
      "RR                  -0.4035\n",
      "GCS                 -0.7841\n",
      "EDMOTOR             -0.6806\n",
      "SI                   0.1985\n",
      "SIRANK               0.1319\n",
      "AGE                 -0.0417\n",
      "SEX                 -0.0313\n",
      "RTS                 -0.7366\n",
      "FlailAMPT            0.0455\n",
      "SCIAMPT              0.0218\n",
      "RRAMPT               0.8447\n",
      "GCSAMPT              0.8820\n",
      "ABDAMPT              0.0382\n",
      "ARMAMPT             -0.0071\n",
      "CHESTAMPT            0.1255\n",
      "FACEAMPT             0.1414\n",
      "HEADAMPT             0.2975\n",
      "LEGAMPT             -0.0883\n",
      "NECKAMPT             0.0661\n",
      "MultisystemAMPT      0.1681\n",
      "AnatomicalAMPT       0.1617\n",
      "PhysiologicalAMPT    1.0000\n",
      "LungAMPT             0.1153\n",
      "AMPT                 0.7523\n",
      "Mechanism           -0.0172\n",
      "RTSCode              0.9015\n",
      "AgeGroups           -0.0593\n",
      "SBPCode              0.2310\n",
      "MotorCode            0.7678\n",
      "Name: PhysiologicalAMPT, dtype: float64\n",
      "LungAMPT\n",
      "TRAUMATYPE           0.0047\n",
      "SYSBP               -0.0546\n",
      "RR                  -0.0332\n",
      "GCS                 -0.1162\n",
      "EDMOTOR             -0.1152\n",
      "SI                   0.0916\n",
      "SIRANK               0.0733\n",
      "AGE                  0.0411\n",
      "SEX                 -0.0109\n",
      "RTS                 -0.1131\n",
      "FlailAMPT            0.1663\n",
      "SCIAMPT              0.0073\n",
      "RRAMPT               0.1190\n",
      "GCSAMPT              0.1008\n",
      "ABDAMPT              0.1699\n",
      "ARMAMPT              0.1100\n",
      "CHESTAMPT            0.5264\n",
      "FACEAMPT             0.0170\n",
      "HEADAMPT             0.0475\n",
      "LEGAMPT             -0.0044\n",
      "NECKAMPT             0.0778\n",
      "MultisystemAMPT      0.2887\n",
      "AnatomicalAMPT       0.5634\n",
      "PhysiologicalAMPT    0.1153\n",
      "LungAMPT             1.0000\n",
      "AMPT                 0.4866\n",
      "Mechanism           -0.0464\n",
      "RTSCode              0.1190\n",
      "AgeGroups            0.0619\n",
      "SBPCode              0.0603\n",
      "MotorCode            0.1017\n",
      "Name: LungAMPT, dtype: float64\n",
      "AMPT\n",
      "TRAUMATYPE          -0.0408\n",
      "SYSBP               -0.1555\n",
      "RR                  -0.4086\n",
      "GCS                 -0.6895\n",
      "EDMOTOR             -0.6161\n",
      "SI                   0.2166\n",
      "SIRANK               0.1541\n",
      "AGE                  0.0026\n",
      "SEX                 -0.0200\n",
      "RTS                 -0.6581\n",
      "FlailAMPT            0.1763\n",
      "SCIAMPT              0.0636\n",
      "RRAMPT               0.7113\n",
      "GCSAMPT              0.7112\n",
      "ABDAMPT              0.2244\n",
      "ARMAMPT              0.1890\n",
      "CHESTAMPT            0.4514\n",
      "FACEAMPT             0.2454\n",
      "HEADAMPT             0.3554\n",
      "LEGAMPT              0.0630\n",
      "NECKAMPT             0.1922\n",
      "MultisystemAMPT      0.6222\n",
      "AnatomicalAMPT       0.6567\n",
      "PhysiologicalAMPT    0.7523\n",
      "LungAMPT             0.4866\n",
      "AMPT                 1.0000\n",
      "Mechanism           -0.0793\n",
      "RTSCode              0.7090\n",
      "AgeGroups            0.0211\n",
      "SBPCode              0.2145\n",
      "MotorCode            0.6538\n",
      "Name: AMPT, dtype: float64\n",
      "Mechanism\n",
      "TRAUMATYPE           0.1196\n",
      "SYSBP                0.0261\n",
      "RR                  -0.0192\n",
      "GCS                  0.0051\n",
      "EDMOTOR             -0.0018\n",
      "SI                  -0.0746\n",
      "SIRANK              -0.0739\n",
      "AGE                  0.1209\n",
      "SEX                 -0.0867\n",
      "RTS                  0.0060\n",
      "FlailAMPT           -0.0147\n",
      "SCIAMPT             -0.0028\n",
      "RRAMPT              -0.0298\n",
      "GCSAMPT             -0.0078\n",
      "ABDAMPT             -0.0491\n",
      "ARMAMPT              0.0104\n",
      "CHESTAMPT           -0.1026\n",
      "FACEAMPT            -0.0618\n",
      "HEADAMPT            -0.0645\n",
      "LEGAMPT              0.0347\n",
      "NECKAMPT            -0.0608\n",
      "MultisystemAMPT     -0.1182\n",
      "AnatomicalAMPT      -0.1094\n",
      "PhysiologicalAMPT   -0.0172\n",
      "LungAMPT            -0.0464\n",
      "AMPT                -0.0793\n",
      "Mechanism            1.0000\n",
      "RTSCode             -0.0190\n",
      "AgeGroups            0.0584\n",
      "SBPCode             -0.0030\n",
      "MotorCode            0.0019\n",
      "Name: Mechanism, dtype: float64\n",
      "RTSCode\n",
      "TRAUMATYPE           0.0470\n",
      "SYSBP               -0.2365\n",
      "RR                  -0.4100\n",
      "GCS                 -0.7715\n",
      "EDMOTOR             -0.6859\n",
      "SI                   0.2473\n",
      "SIRANK               0.1630\n",
      "AGE                 -0.0364\n",
      "SEX                 -0.0269\n",
      "RTS                 -0.7728\n",
      "FlailAMPT            0.0468\n",
      "SCIAMPT              0.0214\n",
      "RRAMPT               0.8571\n",
      "GCSAMPT              0.7728\n",
      "ABDAMPT              0.0543\n",
      "ARMAMPT             -0.0030\n",
      "CHESTAMPT            0.1334\n",
      "FACEAMPT             0.1289\n",
      "HEADAMPT             0.2613\n",
      "LEGAMPT             -0.0750\n",
      "NECKAMPT             0.0631\n",
      "MultisystemAMPT      0.1693\n",
      "AnatomicalAMPT       0.1650\n",
      "PhysiologicalAMPT    0.9015\n",
      "LungAMPT             0.1190\n",
      "AMPT                 0.7090\n",
      "Mechanism           -0.0190\n",
      "RTSCode              1.0000\n",
      "AgeGroups           -0.0571\n",
      "SBPCode              0.4067\n",
      "MotorCode            0.7602\n",
      "Name: RTSCode, dtype: float64\n",
      "AgeGroups\n",
      "TRAUMATYPE          -0.0060\n",
      "SYSBP                0.1798\n",
      "RR                  -0.1205\n",
      "GCS                 -0.0002\n",
      "EDMOTOR              0.0011\n",
      "SI                  -0.3213\n",
      "SIRANK              -0.2734\n",
      "AGE                  0.8373\n",
      "SEX                  0.0516\n",
      "RTS                  0.0051\n",
      "FlailAMPT            0.0498\n",
      "SCIAMPT              0.0085\n",
      "RRAMPT              -0.0730\n",
      "GCSAMPT             -0.0030\n",
      "ABDAMPT              0.0355\n",
      "ARMAMPT              0.0366\n",
      "CHESTAMPT            0.1472\n",
      "FACEAMPT            -0.0134\n",
      "HEADAMPT            -0.0237\n",
      "LEGAMPT              0.0448\n",
      "NECKAMPT             0.0779\n",
      "MultisystemAMPT      0.0733\n",
      "AnatomicalAMPT       0.0912\n",
      "PhysiologicalAMPT   -0.0593\n",
      "LungAMPT             0.0619\n",
      "AMPT                 0.0211\n",
      "Mechanism            0.0584\n",
      "RTSCode             -0.0571\n",
      "AgeGroups            1.0000\n",
      "SBPCode             -0.0029\n",
      "MotorCode           -0.0108\n",
      "Name: AgeGroups, dtype: float64\n",
      "SBPCode\n",
      "TRAUMATYPE           0.0765\n",
      "SYSBP               -0.6008\n",
      "RR                  -0.1921\n",
      "GCS                 -0.2952\n",
      "EDMOTOR             -0.3095\n",
      "SI                   0.2998\n",
      "SIRANK               0.1823\n",
      "AGE                  0.0146\n",
      "SEX                  0.0032\n",
      "RTS                 -0.4817\n",
      "FlailAMPT            0.0386\n",
      "SCIAMPT              0.0064\n",
      "RRAMPT               0.2539\n",
      "GCSAMPT              0.2391\n",
      "ABDAMPT              0.0544\n",
      "ARMAMPT              0.0100\n",
      "CHESTAMPT            0.0753\n",
      "FACEAMPT             0.0044\n",
      "HEADAMPT             0.0376\n",
      "LEGAMPT             -0.0013\n",
      "NECKAMPT             0.0207\n",
      "MultisystemAMPT      0.0599\n",
      "AnatomicalAMPT       0.0661\n",
      "PhysiologicalAMPT    0.2310\n",
      "LungAMPT             0.0603\n",
      "AMPT                 0.2145\n",
      "Mechanism           -0.0030\n",
      "RTSCode              0.4067\n",
      "AgeGroups           -0.0029\n",
      "SBPCode              1.0000\n",
      "MotorCode            0.2569\n",
      "Name: SBPCode, dtype: float64\n",
      "MotorCode\n",
      "TRAUMATYPE           0.0428\n",
      "SYSBP               -0.1630\n",
      "RR                  -0.6224\n",
      "GCS                 -0.9302\n",
      "EDMOTOR             -0.8842\n",
      "SI                   0.1492\n",
      "SIRANK               0.0903\n",
      "AGE                 -0.0190\n",
      "SEX                 -0.0416\n",
      "RTS                 -0.8691\n",
      "FlailAMPT            0.0365\n",
      "SCIAMPT              0.0234\n",
      "RRAMPT               0.6862\n",
      "GCSAMPT              0.8701\n",
      "ABDAMPT              0.0111\n",
      "ARMAMPT             -0.0108\n",
      "CHESTAMPT            0.1015\n",
      "FACEAMPT             0.1476\n",
      "HEADAMPT             0.2936\n",
      "LEGAMPT             -0.0910\n",
      "NECKAMPT             0.0652\n",
      "MultisystemAMPT      0.1480\n",
      "AnatomicalAMPT       0.1386\n",
      "PhysiologicalAMPT    0.7678\n",
      "LungAMPT             0.1017\n",
      "AMPT                 0.6538\n",
      "Mechanism            0.0019\n",
      "RTSCode              0.7602\n",
      "AgeGroups           -0.0108\n",
      "SBPCode              0.2569\n",
      "MotorCode            1.0000\n",
      "Name: MotorCode, dtype: float64\n",
      "AMPT2\n",
      "TRAUMATYPE           0.0058\n",
      "SYSBP               -0.1686\n",
      "RR                  -0.4978\n",
      "GCS                 -0.7265\n",
      "EDMOTOR             -0.6554\n",
      "SI                   0.1933\n",
      "SIRANK               0.1331\n",
      "AGE                  0.0036\n",
      "SEX                 -0.0266\n",
      "RTS                 -0.7115\n",
      "FlailAMPT            0.1545\n",
      "SCIAMPT              0.0404\n",
      "RRAMPT               0.7302\n",
      "GCSAMPT              0.7140\n",
      "ABDAMPT              0.1519\n",
      "ARMAMPT              0.1081\n",
      "CHESTAMPT            0.3298\n",
      "FACEAMPT             0.1709\n",
      "HEADAMPT             0.3051\n",
      "LEGAMPT             -0.0046\n",
      "NECKAMPT             0.1335\n",
      "MultisystemAMPT      0.4212\n",
      "AnatomicalAMPT       0.4119\n",
      "PhysiologicalAMPT    0.7103\n",
      "LungAMPT             0.4384\n",
      "AMPT                 0.8417\n",
      "Mechanism           -0.0503\n",
      "RTSCode              0.6888\n",
      "AgeGroups            0.0215\n",
      "SBPCode              0.2328\n",
      "MotorCode            0.6791\n",
      "Name: AMPT2, dtype: float64\n"
     ]
    }
   ],
   "source": [
    "columnNames = coorelationDF.columns\n",
    "for colName in columnNames:\n",
    "    print(colName)\n",
    "    print(coorelationDF[colName])"
   ]
  },
  {
   "cell_type": "code",
   "execution_count": null,
   "id": "3d3561a8-bcff-416f-b3f6-d9541957eac6",
   "metadata": {},
   "outputs": [],
   "source": []
  },
  {
   "cell_type": "code",
   "execution_count": null,
   "id": "42c9b18e-1be9-47b9-98e6-b9aab40bf8fe",
   "metadata": {},
   "outputs": [],
   "source": []
  }
 ],
 "metadata": {
  "kernelspec": {
   "display_name": "Python 3 (ipykernel)",
   "language": "python",
   "name": "python3"
  },
  "language_info": {
   "codemirror_mode": {
    "name": "ipython",
    "version": 3
   },
   "file_extension": ".py",
   "mimetype": "text/x-python",
   "name": "python",
   "nbconvert_exporter": "python",
   "pygments_lexer": "ipython3",
   "version": "3.9.7"
  }
 },
 "nbformat": 4,
 "nbformat_minor": 5
}
