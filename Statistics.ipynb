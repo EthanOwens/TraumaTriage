{
 "cells": [
  {
   "cell_type": "raw",
   "id": "16d29a21",
   "metadata": {},
   "source": [
    "Return:\n",
    "List of standard deviation\n",
    "List of variance (not necessary)\n",
    "List of mean\n",
    "Dict of p_values\n",
    "\n",
    "\n",
    "Store:\n",
    "Epoch (nested for loop for multiple runs/identifier number)\n",
    "Standard Dev.\n",
    "Variance (>1 run)\n",
    "Mean (>1 run)\n",
    "p_values\n",
    "probability outputs"
   ]
  },
  {
   "cell_type": "code",
   "execution_count": null,
   "id": "bcac9cb2",
   "metadata": {},
   "outputs": [],
   "source": [
    "import statistics\n",
    "import math\n",
    "import csv\n",
    "\n",
    "def Stats(list classifiers,list data): #grab data, I don't understand what is being passed here. What am I getting?\n",
    "    #recieving list of classifiers and 2D list of CMs\n",
    "\n",
    "    #find how many runs by variaitons of model in data\n",
    "    j = len(data) #runs\n",
    "    k = len(classifiers) #number of model types\n",
    "\n",
    "    #create necessary lists\n",
    "    Mean[[for x in range(k)] for y in range(k)] #Mean for each classifier type not necessarily run\n",
    "    Var[[for x in range(k)] for y in range(j)] #Variance for each classifier type and run\n",
    "    std_dev[[for x in range(k)] for y in range(j)] #Standard Deviation for each classifier type and run\n",
    "    p_values[[for x in range(k)] for y in range(j)] #P-Values for\n",
    "\n",
    "    for a in range(k):\n",
    "        for b in range(j):\n",
    "            #number of observations\n",
    "            n = len(data[k])\n",
    "\n",
    "            #mean of data\n",
    "            Mean[k][k] = sum(data[k]) / n \n",
    "\n",
    "            #squared deviations\n",
    "            deviations = [(x - Mean[k][k])**2 for x in data[k]]\n",
    "\n",
    "            #Variance\n",
    "            Var[k][j] = sum(deviations) / n\n",
    "\n",
    "            #Standard deviation\n",
    "            std_dev[k][j] = sqrt(var)\n",
    "\n",
    "            #P_Values \n",
    "            #(any pair of values besides sensitivity -- ex. specificity vs. threshold value being used -- false positives vs true positives)\n",
    "            \n",
    "\n",
    "            #Probability Outputs? This was listed in the diagram but are these supposed to be the sensitivity/specificity?\n",
    "                #The decision tree's confidence level\n",
    "            \n",
    "\n",
    "            #Combine Lists, I can't figure out how...\n",
    "            \n",
    "            #save statistics to files (for python 3)\n",
    "            with open(\"Mean.csv\", \"w\", newline=\"\") as f:\n",
    "                writer = csv.writer(f)\n",
    "                writer.writerows(Mean)\n",
    "\n",
    "            with open(\"Variance.csv\", \"w\", newline=\"\") as f:\n",
    "                writer = csv.writer(f)\n",
    "                writer.writerows(Var)\n",
    "\n",
    "            with open(\"Std_Dev.csv\", \"w\", newline=\"\") as f:\n",
    "                writer = csv.writer(f)\n",
    "                writer.writerows(std_dev)\n",
    "\n",
    "            with open(\"P_Values.csv\", \"w\", newline=\"\") as f:\n",
    "                writer = csv.writer(f)\n",
    "                writer.writerows(p_values)"
   ]
  },
  {
   "cell_type": "code",
   "execution_count": null,
   "id": "43fab5a8",
   "metadata": {},
   "outputs": [],
   "source": [
    "#Do we want to print the stats? Or just save to files?"
   ]
  }
 ],
 "metadata": {
  "kernelspec": {
   "display_name": "Python 3 (ipykernel)",
   "language": "python",
   "name": "python3"
  },
  "language_info": {
   "codemirror_mode": {
    "name": "ipython",
    "version": 3
   },
   "file_extension": ".py",
   "mimetype": "text/x-python",
   "name": "python",
   "nbconvert_exporter": "python",
   "pygments_lexer": "ipython3",
   "version": "3.9.12"
  }
 },
 "nbformat": 4,
 "nbformat_minor": 5
}
